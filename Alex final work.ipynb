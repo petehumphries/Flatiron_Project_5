{
 "cells": [
  {
   "cell_type": "markdown",
   "metadata": {},
   "source": [
    "## Second Attempt: DataCamp template"
   ]
  },
  {
   "cell_type": "markdown",
   "metadata": {},
   "source": [
    "## Problem Framing and Technical Summary\n",
    "\n",
    "We are a not for profit consummer advisory company independently testing, reviewing, investigating products and financial products, and advising on value for money insurance."
   ]
  },
  {
   "cell_type": "markdown",
   "metadata": {},
   "source": [
    "## 1. Importing Libraries"
   ]
  },
  {
   "cell_type": "code",
   "execution_count": 1,
   "metadata": {},
   "outputs": [
    {
     "name": "stderr",
     "output_type": "stream",
     "text": [
      "/opt/anaconda3/lib/python3.7/site-packages/sklearn/externals/six.py:31: FutureWarning: The module is deprecated in version 0.21 and will be removed in version 0.23 since we've dropped support for Python 2.7. Please rely on the official version of six (https://pypi.org/project/six/).\n",
      "  \"(https://pypi.org/project/six/).\", FutureWarning)\n"
     ]
    }
   ],
   "source": [
    "from IPython.display import display\n",
    "from IPython.display import Image\n",
    "import pydotplus\n",
    "from sklearn.externals.six import StringIO \n",
    "from subprocess import call\n",
    "\n",
    "import numpy as np\n",
    "import pandas as pd\n",
    "import itertools\n",
    "\n",
    "import matplotlib.pyplot as plt\n",
    "import matplotlib.image as mpimg\n",
    "%matplotlib inline\n",
    "import seaborn as sns\n",
    "\n",
    "from sklearn.model_selection import train_test_split, GridSearchCV, StratifiedKFold\n",
    "from sklearn.metrics import confusion_matrix, roc_curve, roc_auc_score, classification_report \n",
    "from sklearn.tree import DecisionTreeClassifier\n",
    "from sklearn.linear_model import LogisticRegression, LinearRegression\n",
    "from sklearn.svm import SVC\n",
    "from sklearn.ensemble import VotingClassifier, BaggingClassifier, AdaBoostClassifier, RandomForestClassifier\n",
    "from sklearn.preprocessing import StandardScaler, LabelEncoder, OneHotEncoder\n",
    "from sklearn.neighbors import KNeighborsClassifier\n",
    "from sklearn.ensemble import StackingClassifier\n",
    "\n",
    "from sklearn import tree\n",
    "from sklearn.tree import export_graphviz\n",
    "\n",
    "import warnings\n",
    "warnings.filterwarnings('ignore')"
   ]
  },
  {
   "cell_type": "markdown",
   "metadata": {},
   "source": [
    "## 2.Exploratory Data Analysis\n",
    "### 2.1 Load in cleaned csv"
   ]
  },
  {
   "cell_type": "code",
   "execution_count": 2,
   "metadata": {},
   "outputs": [],
   "source": [
    "df = pd.read_csv('wisconsin.csv')\n",
    "df.drop(df.columns[0], axis=1, inplace=True)\n",
    "del df['YEAR']\n",
    "df.to_pickle('./dataframe.pk2')"
   ]
  },
  {
   "cell_type": "code",
   "execution_count": 3,
   "metadata": {},
   "outputs": [
    {
     "data": {
      "text/html": [
       "<div>\n",
       "<style scoped>\n",
       "    .dataframe tbody tr th:only-of-type {\n",
       "        vertical-align: middle;\n",
       "    }\n",
       "\n",
       "    .dataframe tbody tr th {\n",
       "        vertical-align: top;\n",
       "    }\n",
       "\n",
       "    .dataframe thead th {\n",
       "        text-align: right;\n",
       "    }\n",
       "</style>\n",
       "<table border=\"1\" class=\"dataframe\">\n",
       "  <thead>\n",
       "    <tr style=\"text-align: right;\">\n",
       "      <th></th>\n",
       "      <th>MONTH</th>\n",
       "      <th>DAY</th>\n",
       "      <th>DAY_OF_WEEK</th>\n",
       "      <th>AIRLINE</th>\n",
       "      <th>FLIGHT_NUMBER</th>\n",
       "      <th>TAIL_NUMBER</th>\n",
       "      <th>ORIGIN_AIRPORT</th>\n",
       "      <th>DESTINATION_AIRPORT</th>\n",
       "      <th>SCHEDULED_DEPARTURE</th>\n",
       "      <th>DEPARTURE_TIME</th>\n",
       "      <th>...</th>\n",
       "      <th>WEATHER_DELAY</th>\n",
       "      <th>airline_full_name</th>\n",
       "      <th>ORIGIN_CITY</th>\n",
       "      <th>ORIGIN_STATE</th>\n",
       "      <th>ORIGIN_LATITUDE</th>\n",
       "      <th>ORIGIN_LONGITUDE</th>\n",
       "      <th>DESTINATION_CITY</th>\n",
       "      <th>DESTINATION_STATE</th>\n",
       "      <th>DESTINATION_LATITUDE</th>\n",
       "      <th>DESTINATION_LONGITUDE</th>\n",
       "    </tr>\n",
       "  </thead>\n",
       "  <tbody>\n",
       "    <tr>\n",
       "      <td>0</td>\n",
       "      <td>7</td>\n",
       "      <td>1</td>\n",
       "      <td>3</td>\n",
       "      <td>OO</td>\n",
       "      <td>3423</td>\n",
       "      <td>N170SY</td>\n",
       "      <td>MKE</td>\n",
       "      <td>SEA</td>\n",
       "      <td>1605</td>\n",
       "      <td>1603.0</td>\n",
       "      <td>...</td>\n",
       "      <td>NaN</td>\n",
       "      <td>Skywest Airlines Inc.</td>\n",
       "      <td>Milwaukee</td>\n",
       "      <td>WI</td>\n",
       "      <td>42.94722</td>\n",
       "      <td>-87.89658</td>\n",
       "      <td>Seattle</td>\n",
       "      <td>WA</td>\n",
       "      <td>47.44898</td>\n",
       "      <td>-122.30931</td>\n",
       "    </tr>\n",
       "    <tr>\n",
       "      <td>1</td>\n",
       "      <td>7</td>\n",
       "      <td>2</td>\n",
       "      <td>4</td>\n",
       "      <td>OO</td>\n",
       "      <td>3423</td>\n",
       "      <td>N171SY</td>\n",
       "      <td>MKE</td>\n",
       "      <td>SEA</td>\n",
       "      <td>1605</td>\n",
       "      <td>1600.0</td>\n",
       "      <td>...</td>\n",
       "      <td>NaN</td>\n",
       "      <td>Skywest Airlines Inc.</td>\n",
       "      <td>Milwaukee</td>\n",
       "      <td>WI</td>\n",
       "      <td>42.94722</td>\n",
       "      <td>-87.89658</td>\n",
       "      <td>Seattle</td>\n",
       "      <td>WA</td>\n",
       "      <td>47.44898</td>\n",
       "      <td>-122.30931</td>\n",
       "    </tr>\n",
       "    <tr>\n",
       "      <td>2</td>\n",
       "      <td>7</td>\n",
       "      <td>3</td>\n",
       "      <td>5</td>\n",
       "      <td>OO</td>\n",
       "      <td>3423</td>\n",
       "      <td>N170SY</td>\n",
       "      <td>MKE</td>\n",
       "      <td>SEA</td>\n",
       "      <td>1605</td>\n",
       "      <td>1605.0</td>\n",
       "      <td>...</td>\n",
       "      <td>0.0</td>\n",
       "      <td>Skywest Airlines Inc.</td>\n",
       "      <td>Milwaukee</td>\n",
       "      <td>WI</td>\n",
       "      <td>42.94722</td>\n",
       "      <td>-87.89658</td>\n",
       "      <td>Seattle</td>\n",
       "      <td>WA</td>\n",
       "      <td>47.44898</td>\n",
       "      <td>-122.30931</td>\n",
       "    </tr>\n",
       "    <tr>\n",
       "      <td>3</td>\n",
       "      <td>7</td>\n",
       "      <td>4</td>\n",
       "      <td>6</td>\n",
       "      <td>OO</td>\n",
       "      <td>3423</td>\n",
       "      <td>N173SY</td>\n",
       "      <td>MKE</td>\n",
       "      <td>SEA</td>\n",
       "      <td>1605</td>\n",
       "      <td>1558.0</td>\n",
       "      <td>...</td>\n",
       "      <td>NaN</td>\n",
       "      <td>Skywest Airlines Inc.</td>\n",
       "      <td>Milwaukee</td>\n",
       "      <td>WI</td>\n",
       "      <td>42.94722</td>\n",
       "      <td>-87.89658</td>\n",
       "      <td>Seattle</td>\n",
       "      <td>WA</td>\n",
       "      <td>47.44898</td>\n",
       "      <td>-122.30931</td>\n",
       "    </tr>\n",
       "    <tr>\n",
       "      <td>4</td>\n",
       "      <td>7</td>\n",
       "      <td>5</td>\n",
       "      <td>7</td>\n",
       "      <td>OO</td>\n",
       "      <td>3423</td>\n",
       "      <td>N171SY</td>\n",
       "      <td>MKE</td>\n",
       "      <td>SEA</td>\n",
       "      <td>1605</td>\n",
       "      <td>1600.0</td>\n",
       "      <td>...</td>\n",
       "      <td>NaN</td>\n",
       "      <td>Skywest Airlines Inc.</td>\n",
       "      <td>Milwaukee</td>\n",
       "      <td>WI</td>\n",
       "      <td>42.94722</td>\n",
       "      <td>-87.89658</td>\n",
       "      <td>Seattle</td>\n",
       "      <td>WA</td>\n",
       "      <td>47.44898</td>\n",
       "      <td>-122.30931</td>\n",
       "    </tr>\n",
       "  </tbody>\n",
       "</table>\n",
       "<p>5 rows × 39 columns</p>\n",
       "</div>"
      ],
      "text/plain": [
       "   MONTH  DAY  DAY_OF_WEEK AIRLINE  FLIGHT_NUMBER TAIL_NUMBER ORIGIN_AIRPORT  \\\n",
       "0      7    1            3      OO           3423      N170SY            MKE   \n",
       "1      7    2            4      OO           3423      N171SY            MKE   \n",
       "2      7    3            5      OO           3423      N170SY            MKE   \n",
       "3      7    4            6      OO           3423      N173SY            MKE   \n",
       "4      7    5            7      OO           3423      N171SY            MKE   \n",
       "\n",
       "  DESTINATION_AIRPORT  SCHEDULED_DEPARTURE  DEPARTURE_TIME  ...  \\\n",
       "0                 SEA                 1605          1603.0  ...   \n",
       "1                 SEA                 1605          1600.0  ...   \n",
       "2                 SEA                 1605          1605.0  ...   \n",
       "3                 SEA                 1605          1558.0  ...   \n",
       "4                 SEA                 1605          1600.0  ...   \n",
       "\n",
       "   WEATHER_DELAY      airline_full_name  ORIGIN_CITY  ORIGIN_STATE  \\\n",
       "0            NaN  Skywest Airlines Inc.    Milwaukee            WI   \n",
       "1            NaN  Skywest Airlines Inc.    Milwaukee            WI   \n",
       "2            0.0  Skywest Airlines Inc.    Milwaukee            WI   \n",
       "3            NaN  Skywest Airlines Inc.    Milwaukee            WI   \n",
       "4            NaN  Skywest Airlines Inc.    Milwaukee            WI   \n",
       "\n",
       "   ORIGIN_LATITUDE  ORIGIN_LONGITUDE  DESTINATION_CITY  DESTINATION_STATE  \\\n",
       "0         42.94722         -87.89658           Seattle                 WA   \n",
       "1         42.94722         -87.89658           Seattle                 WA   \n",
       "2         42.94722         -87.89658           Seattle                 WA   \n",
       "3         42.94722         -87.89658           Seattle                 WA   \n",
       "4         42.94722         -87.89658           Seattle                 WA   \n",
       "\n",
       "   DESTINATION_LATITUDE  DESTINATION_LONGITUDE  \n",
       "0              47.44898             -122.30931  \n",
       "1              47.44898             -122.30931  \n",
       "2              47.44898             -122.30931  \n",
       "3              47.44898             -122.30931  \n",
       "4              47.44898             -122.30931  \n",
       "\n",
       "[5 rows x 39 columns]"
      ]
     },
     "execution_count": 3,
     "metadata": {},
     "output_type": "execute_result"
    }
   ],
   "source": [
    "df.head(5)"
   ]
  },
  {
   "cell_type": "code",
   "execution_count": 4,
   "metadata": {},
   "outputs": [
    {
     "name": "stdout",
     "output_type": "stream",
     "text": [
      "<class 'pandas.core.frame.DataFrame'>\n",
      "RangeIndex: 51376 entries, 0 to 51375\n",
      "Data columns (total 39 columns):\n",
      "MONTH                    51376 non-null int64\n",
      "DAY                      51376 non-null int64\n",
      "DAY_OF_WEEK              51376 non-null int64\n",
      "AIRLINE                  51376 non-null object\n",
      "FLIGHT_NUMBER            51376 non-null int64\n",
      "TAIL_NUMBER              51320 non-null object\n",
      "ORIGIN_AIRPORT           51376 non-null object\n",
      "DESTINATION_AIRPORT      51376 non-null object\n",
      "SCHEDULED_DEPARTURE      51376 non-null int64\n",
      "DEPARTURE_TIME           50151 non-null float64\n",
      "DEPARTURE_DELAY          50151 non-null float64\n",
      "TAXI_OUT                 50122 non-null float64\n",
      "WHEELS_OFF               50122 non-null float64\n",
      "SCHEDULED_TIME           51376 non-null float64\n",
      "ELAPSED_TIME             49994 non-null float64\n",
      "AIR_TIME                 49994 non-null float64\n",
      "DISTANCE                 51376 non-null int64\n",
      "WHEELS_ON                50094 non-null float64\n",
      "TAXI_IN                  50094 non-null float64\n",
      "SCHEDULED_ARRIVAL        51376 non-null int64\n",
      "ARRIVAL_TIME             50094 non-null float64\n",
      "ARRIVAL_DELAY            49994 non-null float64\n",
      "DIVERTED                 51376 non-null int64\n",
      "CANCELLED                51376 non-null int64\n",
      "CANCELLATION_REASON      1262 non-null object\n",
      "AIR_SYSTEM_DELAY         8564 non-null float64\n",
      "SECURITY_DELAY           8564 non-null float64\n",
      "AIRLINE_DELAY            8564 non-null float64\n",
      "LATE_AIRCRAFT_DELAY      8564 non-null float64\n",
      "WEATHER_DELAY            8564 non-null float64\n",
      "airline_full_name        51376 non-null object\n",
      "ORIGIN_CITY              51376 non-null object\n",
      "ORIGIN_STATE             51376 non-null object\n",
      "ORIGIN_LATITUDE          51376 non-null float64\n",
      "ORIGIN_LONGITUDE         51376 non-null float64\n",
      "DESTINATION_CITY         51376 non-null object\n",
      "DESTINATION_STATE        51376 non-null object\n",
      "DESTINATION_LATITUDE     51376 non-null float64\n",
      "DESTINATION_LONGITUDE    51376 non-null float64\n",
      "dtypes: float64(20), int64(9), object(10)\n",
      "memory usage: 15.3+ MB\n"
     ]
    }
   ],
   "source": [
    "df.info()"
   ]
  },
  {
   "cell_type": "markdown",
   "metadata": {},
   "source": [
    "### 2.2 Visual Analysis\n",
    "#### 2.2.1 Showing Flight Times by Airport of Origin"
   ]
  },
  {
   "cell_type": "code",
   "execution_count": 5,
   "metadata": {},
   "outputs": [
    {
     "data": {
      "text/plain": [
       "<matplotlib.axes._subplots.AxesSubplot at 0x126a64810>"
      ]
     },
     "execution_count": 5,
     "metadata": {},
     "output_type": "execute_result"
    },
    {
     "data": {
      "image/png": "[encoded data removed]",
      "text/plain": [
       "<Figure size 360x432 with 1 Axes>"
      ]
     },
     "metadata": {
      "needs_background": "light"
     },
     "output_type": "display_data"
    }
   ],
   "source": [
    "df.boxplot('SCHEDULED_DEPARTURE','ORIGIN_AIRPORT',rot = 30,figsize=(5,6))"
   ]
  },
  {
   "cell_type": "markdown",
   "metadata": {},
   "source": [
    "#### 2.2.2 Graph Function"
   ]
  },
  {
   "cell_type": "code",
   "execution_count": 6,
   "metadata": {},
   "outputs": [],
   "source": [
    "def bar_plot(col):\n",
    "\n",
    "    col_count = df[col].value_counts()\n",
    "    sns.set(style=\"darkgrid\")\n",
    "    sns.barplot(col_count.index, col_count.values, alpha=0.8)\n",
    "    plt.title('Frequency Distribution of ' + str(col))\n",
    "    plt.ylabel('Number of Occurrences', fontsize=12)\n",
    "    plt.xlabel(col, fontsize=12)\n",
    "    plt.show()\n",
    "    "
   ]
  },
  {
   "cell_type": "markdown",
   "metadata": {},
   "source": [
    "#### 2.2.3 Flights by Airline"
   ]
  },
  {
   "cell_type": "code",
   "execution_count": 7,
   "metadata": {
    "scrolled": true
   },
   "outputs": [
    {
     "data": {
      "image/png": "[encoded data removed]",
      "text/plain": [
       "<Figure size 432x288 with 1 Axes>"
      ]
     },
     "metadata": {},
     "output_type": "display_data"
    }
   ],
   "source": [
    "bar_plot('AIRLINE')"
   ]
  },
  {
   "cell_type": "markdown",
   "metadata": {},
   "source": [
    "#### 2.2.4 Flights by Airport of Origin"
   ]
  },
  {
   "cell_type": "code",
   "execution_count": 8,
   "metadata": {
    "scrolled": false
   },
   "outputs": [
    {
     "data": {
      "image/png": "[encoded data removed]",
      "text/plain": [
       "<Figure size 432x288 with 1 Axes>"
      ]
     },
     "metadata": {},
     "output_type": "display_data"
    }
   ],
   "source": [
    "bar_plot('ORIGIN_AIRPORT')"
   ]
  },
  {
   "cell_type": "markdown",
   "metadata": {},
   "source": [
    "#### 2.2.5 Flights by Airport of Origin"
   ]
  },
  {
   "cell_type": "code",
   "execution_count": 9,
   "metadata": {},
   "outputs": [
    {
     "data": {
      "image/png": "[encoded data removed]",
      "text/plain": [
       "<Figure size 432x288 with 1 Axes>"
      ]
     },
     "metadata": {},
     "output_type": "display_data"
    }
   ],
   "source": [
    "bar_plot('DESTINATION_AIRPORT')"
   ]
  },
  {
   "cell_type": "markdown",
   "metadata": {},
   "source": [
    "### 2.3 Class Imbalance Exploration"
   ]
  },
  {
   "cell_type": "code",
   "execution_count": 10,
   "metadata": {},
   "outputs": [
    {
     "name": "stderr",
     "output_type": "stream",
     "text": [
      "Using TensorFlow backend.\n"
     ]
    }
   ],
   "source": [
    "%load_ext autoreload\n",
    "%autoreload\n",
    "from clockwork_orange import delay_cutoff_plot, classifier_plot"
   ]
  },
  {
   "cell_type": "markdown",
   "metadata": {},
   "source": [
    "### 2.2.1 Class Imbalance as a function of \"delayed\" contractual definition \n",
    "\n",
    "Insurance policies will have a definition of a delay, a threshold beneath which they will not pay claims.  Tight definitions of a delay can lead to moral hazard, adverse selection and underprovision.  For this reason insurance contracts have buffer between a mathematical definition of delayed and the policy definition. As the definition of \"delayed\" changes between insurers and between policies this has an interesting impact on class balance. \n",
    "\n",
    "##### Military Delay: Ontime is 4 minutes early (negative delay):\n",
    "For a policy threshold delay of -4 minutes, half of planes take off 4 minutes early or earlier, and half of planes take off 3 minutes early or later. If this was the boilerplate definition of delayed in insurance contracts there would be no class imbalance, but insurance would be very expensive'\n",
    "\n",
    "##### Mathematical Delay: \n",
    "73% of planes take off ontime or earlier, and 27% of planes take off one minute or later.\n",
    "\n",
    "##### Insurance Delay Minimum:\n",
    "92.6% of planes take off before the 30 min delay mark, 7.4% are later than 30 minutes. You are now entering the insurance zone.\n",
    "\n",
    "##### Insurance Payout Zone:\n",
    "95% of planes take off within 1 hour of their scheduled time, meaning 5% are more than one hour delayed.\n",
    "The charts below explore the class imbalance at increasing intervals of delay."
   ]
  },
  {
   "cell_type": "code",
   "execution_count": 11,
   "metadata": {},
   "outputs": [
    {
     "name": "stdout",
     "output_type": "stream",
     "text": [
      "CPU times: user 2 µs, sys: 0 ns, total: 2 µs\n",
      "Wall time: 4.05 µs\n"
     ]
    },
    {
     "data": {
      "image/png": "[encoded data removed]",
      "text/plain": [
       "<Figure size 1440x216 with 1 Axes>"
      ]
     },
     "metadata": {},
     "output_type": "display_data"
    },
    {
     "name": "stdout",
     "output_type": "stream",
     "text": [
      "##########################################\n",
      "Total flights   :  51376\n",
      "Flights delayed :  29322\n",
      "Flights ontime  :  22054\n",
      "##########################################\n",
      "Flights delayed :  57.073 %\n",
      "Flights ontime  :  42.927 %\n",
      "##########################################\n"
     ]
    },
    {
     "data": {
      "image/png": "[encoded data removed]",
      "text/plain": [
       "<Figure size 1440x216 with 1 Axes>"
      ]
     },
     "metadata": {},
     "output_type": "display_data"
    },
    {
     "name": "stdout",
     "output_type": "stream",
     "text": [
      "##########################################\n",
      "Total flights   :  51376\n",
      "Flights delayed :  25426\n",
      "Flights ontime  :  25950\n",
      "##########################################\n",
      "Flights delayed :  49.49 %\n",
      "Flights ontime  :  50.51 %\n",
      "##########################################\n"
     ]
    },
    {
     "data": {
      "image/png": "[encoded data removed]",
      "text/plain": [
       "<Figure size 1440x216 with 1 Axes>"
      ]
     },
     "metadata": {},
     "output_type": "display_data"
    },
    {
     "name": "stdout",
     "output_type": "stream",
     "text": [
      "##########################################\n",
      "Total flights   :  51376\n",
      "Flights delayed :  13831\n",
      "Flights ontime  :  37545\n",
      "##########################################\n",
      "Flights delayed :  26.921 %\n",
      "Flights ontime  :  73.079 %\n",
      "##########################################\n"
     ]
    },
    {
     "data": {
      "image/png": "[encoded data removed]",
      "text/plain": [
       "<Figure size 1440x216 with 1 Axes>"
      ]
     },
     "metadata": {},
     "output_type": "display_data"
    },
    {
     "name": "stdout",
     "output_type": "stream",
     "text": [
      "##########################################\n",
      "Total flights   :  51376\n",
      "Flights delayed :  8509\n",
      "Flights ontime  :  42867\n",
      "##########################################\n",
      "Flights delayed :  16.562 %\n",
      "Flights ontime  :  83.438 %\n",
      "##########################################\n"
     ]
    },
    {
     "data": {
      "image/png": "[encoded data removed]",
      "text/plain": [
       "<Figure size 1440x216 with 1 Axes>"
      ]
     },
     "metadata": {},
     "output_type": "display_data"
    },
    {
     "name": "stdout",
     "output_type": "stream",
     "text": [
      "##########################################\n",
      "Total flights   :  51376\n",
      "Flights delayed :  6223\n",
      "Flights ontime  :  45153\n",
      "##########################################\n",
      "Flights delayed :  12.113 %\n",
      "Flights ontime  :  87.887 %\n",
      "##########################################\n"
     ]
    },
    {
     "data": {
      "image/png": "[encoded data removed]",
      "text/plain": [
       "<Figure size 1440x216 with 1 Axes>"
      ]
     },
     "metadata": {},
     "output_type": "display_data"
    },
    {
     "name": "stdout",
     "output_type": "stream",
     "text": [
      "##########################################\n",
      "Total flights   :  51376\n",
      "Flights delayed :  4815\n",
      "Flights ontime  :  46561\n",
      "##########################################\n",
      "Flights delayed :  9.372 %\n",
      "Flights ontime  :  90.628 %\n",
      "##########################################\n"
     ]
    },
    {
     "data": {
      "image/png": "[encoded data removed]",
      "text/plain": [
       "<Figure size 1440x216 with 1 Axes>"
      ]
     },
     "metadata": {},
     "output_type": "display_data"
    },
    {
     "name": "stdout",
     "output_type": "stream",
     "text": [
      "##########################################\n",
      "Total flights   :  51376\n",
      "Flights delayed :  2617\n",
      "Flights ontime  :  48759\n",
      "##########################################\n",
      "Flights delayed :  5.094 %\n",
      "Flights ontime  :  94.906 %\n",
      "##########################################\n"
     ]
    },
    {
     "data": {
      "image/png": "[encoded data removed]",
      "text/plain": [
       "<Figure size 1440x216 with 1 Axes>"
      ]
     },
     "metadata": {},
     "output_type": "display_data"
    },
    {
     "name": "stdout",
     "output_type": "stream",
     "text": [
      "##########################################\n",
      "Total flights   :  51376\n",
      "Flights delayed :  1025\n",
      "Flights ontime  :  50351\n",
      "##########################################\n",
      "Flights delayed :  1.995 %\n",
      "Flights ontime  :  98.005 %\n",
      "##########################################\n"
     ]
    },
    {
     "data": {
      "image/png": "[encoded data removed]",
      "text/plain": [
       "<Figure size 1440x216 with 1 Axes>"
      ]
     },
     "metadata": {},
     "output_type": "display_data"
    },
    {
     "name": "stdout",
     "output_type": "stream",
     "text": [
      "##########################################\n",
      "Total flights   :  51376\n",
      "Flights delayed :  461\n",
      "Flights ontime  :  50915\n",
      "##########################################\n",
      "Flights delayed :  0.897 %\n",
      "Flights ontime  :  99.103 %\n",
      "##########################################\n"
     ]
    },
    {
     "data": {
      "image/png": "[encoded data removed]",
      "text/plain": [
       "<Figure size 1440x216 with 1 Axes>"
      ]
     },
     "metadata": {},
     "output_type": "display_data"
    },
    {
     "name": "stdout",
     "output_type": "stream",
     "text": [
      "##########################################\n",
      "Total flights   :  51376\n",
      "Flights delayed :  228\n",
      "Flights ontime  :  51148\n",
      "##########################################\n",
      "Flights delayed :  0.444 %\n",
      "Flights ontime  :  99.556 %\n",
      "##########################################\n"
     ]
    },
    {
     "data": {
      "image/png": "[encoded data removed]",
      "text/plain": [
       "<Figure size 1440x216 with 1 Axes>"
      ]
     },
     "metadata": {},
     "output_type": "display_data"
    },
    {
     "name": "stdout",
     "output_type": "stream",
     "text": [
      "##########################################\n",
      "Total flights   :  51376\n",
      "Flights delayed :  131\n",
      "Flights ontime  :  51245\n",
      "##########################################\n",
      "Flights delayed :  0.255 %\n",
      "Flights ontime  :  99.745 %\n",
      "##########################################\n"
     ]
    },
    {
     "data": {
      "image/png": "[encoded data removed]",
      "text/plain": [
       "<Figure size 1440x216 with 1 Axes>"
      ]
     },
     "metadata": {},
     "output_type": "display_data"
    },
    {
     "name": "stdout",
     "output_type": "stream",
     "text": [
      "##########################################\n",
      "Total flights   :  51376\n",
      "Flights delayed :  78\n",
      "Flights ontime  :  51298\n",
      "##########################################\n",
      "Flights delayed :  0.152 %\n",
      "Flights ontime  :  99.848 %\n",
      "##########################################\n"
     ]
    }
   ],
   "source": [
    "%time\n",
    "# balanced class for delays at -4 minutes, ie take off 4 minutes early\n",
    "cutoffs = (-5, -4, 0, 10, 20, 30, 60, 120, 180, 240, 300, 360)\n",
    "\n",
    "for i in cutoffs:\n",
    "    delay_cutoff_plot(i)"
   ]
  },
  {
   "cell_type": "markdown",
   "metadata": {},
   "source": [
    "### 2.2.2 Class Imbalances for Cancelled and Delayed Flights\n",
    "\n",
    "Two other insurable events are interesting in the flights dataset,\n",
    "* Cancelled Flights\n",
    "* Diverted Flights\n",
    "\n",
    "##### Cancelled Flights = Target Variable\n",
    "Delays can be inconvenient but cancelled flights on the day can be much more costly in time and money. Cancelled flights are  measurable and insurable, and the 1262 cancelled flights in the dataset represent 2.5% of the population.\n",
    "\n",
    "Cancelled Flights will be our target variable.\n",
    "\n",
    "##### Diverted Flights\n",
    "Being diverted to Stanstead at 1am on Monday morning when your car is at Heathrow is a nightmare. This is very insurable event that speaks for itself. Fortunately for travellers only 0.25% of flights in the dataset were diverted, but the data is too small for us to take a meaningful look at."
   ]
  },
  {
   "cell_type": "code",
   "execution_count": 12,
   "metadata": {},
   "outputs": [
    {
     "data": {
      "image/png": "[encoded data removed]",
      "text/plain": [
       "<Figure size 1440x144 with 1 Axes>"
      ]
     },
     "metadata": {},
     "output_type": "display_data"
    },
    {
     "name": "stdout",
     "output_type": "stream",
     "text": [
      "##########################################\n",
      "Total flights         :  51376\n",
      "Flights CANCELLED      :   1262\n",
      "Flights not CANCELLED  :  50114\n",
      "##########################################\n",
      "% Flights CANCELLED    :  2.456 %\n",
      "% Flights not CANCELLED: 97.544 %\n",
      "##########################################\n"
     ]
    },
    {
     "data": {
      "image/png": "[encoded data removed]",
      "text/plain": [
       "<Figure size 1440x144 with 1 Axes>"
      ]
     },
     "metadata": {},
     "output_type": "display_data"
    },
    {
     "name": "stdout",
     "output_type": "stream",
     "text": [
      "##########################################\n",
      "Total flights         :  51376\n",
      "Flights DIVERTED      :   120\n",
      "Flights not DIVERTED  :  51256\n",
      "##########################################\n",
      "% Flights DIVERTED    :  0.234 %\n",
      "% Flights not DIVERTED: 99.766 %\n",
      "##########################################\n"
     ]
    }
   ],
   "source": [
    "cols = ('CANCELLED', 'DIVERTED')\n",
    "for c in cols:\n",
    "    classifier_plot(c)"
   ]
  },
  {
   "cell_type": "code",
   "execution_count": 13,
   "metadata": {},
   "outputs": [],
   "source": [
    "## Define & Create Target Variable lateness\n",
    "late = 10\n",
    "df['DELAYED_TARGET'] = np.where(df['DEPARTURE_DELAY'] > late, 1, 0)"
   ]
  },
  {
   "cell_type": "markdown",
   "metadata": {},
   "source": [
    "The chosen class lateness cutoff for flights is 10 minutes. The class imbalance is given below:"
   ]
  },
  {
   "cell_type": "code",
   "execution_count": 14,
   "metadata": {},
   "outputs": [
    {
     "data": {
      "image/png": "[encoded data removed]",
      "text/plain": [
       "<Figure size 1440x216 with 1 Axes>"
      ]
     },
     "metadata": {},
     "output_type": "display_data"
    },
    {
     "name": "stdout",
     "output_type": "stream",
     "text": [
      "##########################################\n",
      "Total flights   :  51376\n",
      "Flights delayed :  8509\n",
      "Flights ontime  :  42867\n",
      "##########################################\n",
      "Flights delayed :  16.562 %\n",
      "Flights ontime  :  83.438 %\n",
      "##########################################\n"
     ]
    }
   ],
   "source": [
    "delay_cutoff_plot(late)"
   ]
  },
  {
   "cell_type": "code",
   "execution_count": 15,
   "metadata": {},
   "outputs": [
    {
     "data": {
      "text/plain": [
       "Index(['MONTH', 'DAY', 'DAY_OF_WEEK', 'AIRLINE', 'FLIGHT_NUMBER',\n",
       "       'TAIL_NUMBER', 'ORIGIN_AIRPORT', 'DESTINATION_AIRPORT',\n",
       "       'SCHEDULED_DEPARTURE', 'DEPARTURE_TIME', 'DEPARTURE_DELAY', 'TAXI_OUT',\n",
       "       'WHEELS_OFF', 'SCHEDULED_TIME', 'ELAPSED_TIME', 'AIR_TIME', 'DISTANCE',\n",
       "       'WHEELS_ON', 'TAXI_IN', 'SCHEDULED_ARRIVAL', 'ARRIVAL_TIME',\n",
       "       'ARRIVAL_DELAY', 'DIVERTED', 'CANCELLED', 'CANCELLATION_REASON',\n",
       "       'AIR_SYSTEM_DELAY', 'SECURITY_DELAY', 'AIRLINE_DELAY',\n",
       "       'LATE_AIRCRAFT_DELAY', 'WEATHER_DELAY', 'airline_full_name',\n",
       "       'ORIGIN_CITY', 'ORIGIN_STATE', 'ORIGIN_LATITUDE', 'ORIGIN_LONGITUDE',\n",
       "       'DESTINATION_CITY', 'DESTINATION_STATE', 'DESTINATION_LATITUDE',\n",
       "       'DESTINATION_LONGITUDE', 'DELAYED_TARGET'],\n",
       "      dtype='object')"
      ]
     },
     "execution_count": 15,
     "metadata": {},
     "output_type": "execute_result"
    }
   ],
   "source": [
    "df.columns"
   ]
  },
  {
   "cell_type": "code",
   "execution_count": 16,
   "metadata": {},
   "outputs": [
    {
     "data": {
      "image/png": "[encoded data removed]",
      "text/plain": [
       "<Figure size 1152x1152 with 30 Axes>"
      ]
     },
     "metadata": {},
     "output_type": "display_data"
    }
   ],
   "source": [
    "df.hist(bins=30, figsize=(16,16))\n",
    "plt.show()"
   ]
  },
  {
   "cell_type": "markdown",
   "metadata": {},
   "source": [
    "## 3.Data Cleaning\n",
    "\n",
    "Some of the columns with NaNs need addressing. All cancelled flights and diverted flight were missing arrival times at their destination, so were replaced with 0 (no impact on analysis). Cancelled flights have no departure time, no wheels off, no arrival time so replaced with 0 (they can't be removed as there would be no cancelled flight data) Blank delays have been treated as no delay in the other columns. Uncancelled flights have no Cancellation Reason so NaNs replaced with 0s also. "
   ]
  },
  {
   "cell_type": "code",
   "execution_count": 17,
   "metadata": {},
   "outputs": [],
   "source": [
    "# replacing nan's\n",
    "columns_to_clean = (\n",
    "    'CANCELLATION_REASON',\n",
    "    'AIR_SYSTEM_DELAY',\n",
    "    'SECURITY_DELAY', \n",
    "    'AIRLINE_DELAY',\n",
    "    'LATE_AIRCRAFT_DELAY',\n",
    "    'WEATHER_DELAY',\n",
    "    'DEPARTURE_TIME',\n",
    "    'DEPARTURE_DELAY',\n",
    "    'TAXI_OUT',\n",
    "    'WHEELS_OFF',\n",
    "    'ELAPSED_TIME',\n",
    "    'AIR_TIME',\n",
    "    'WHEELS_ON',\n",
    "    'TAXI_IN',\n",
    "    'ARRIVAL_TIME',\n",
    "    'ARRIVAL_DELAY',    \n",
    "    'TAIL_NUMBER'\n",
    "        )\n",
    "\n",
    "for c in columns_to_clean:\n",
    "        df[c] = df[c].replace('nan', np.nan).fillna(0)"
   ]
  },
  {
   "cell_type": "code",
   "execution_count": 18,
   "metadata": {},
   "outputs": [
    {
     "data": {
      "text/plain": [
       "DIVERTED                 1.000000\n",
       "DEPARTURE_DELAY          0.029092\n",
       "DELAYED_TARGET           0.025083\n",
       "DISTANCE                 0.017864\n",
       "SCHEDULED_TIME           0.017520\n",
       "SCHEDULED_ARRIVAL        0.011236\n",
       "WHEELS_OFF               0.009795\n",
       "DEPARTURE_TIME           0.009399\n",
       "TAXI_OUT                 0.009279\n",
       "TAXI_IN                  0.008151\n",
       "DESTINATION_LONGITUDE    0.006336\n",
       "ORIGIN_LONGITUDE         0.006336\n",
       "MONTH                    0.005688\n",
       "DAY                      0.004941\n",
       "SCHEDULED_DEPARTURE      0.004826\n",
       "DAY_OF_WEEK              0.002191\n",
       "SECURITY_DELAY          -0.000435\n",
       "WEATHER_DELAY           -0.002565\n",
       "WHEELS_ON               -0.003225\n",
       "ARRIVAL_DELAY           -0.003479\n",
       "ORIGIN_LATITUDE         -0.004741\n",
       "AIRLINE_DELAY           -0.005119\n",
       "ARRIVAL_TIME            -0.006535\n",
       "FLIGHT_NUMBER           -0.007324\n",
       "CANCELLED               -0.007678\n",
       "AIR_SYSTEM_DELAY        -0.009363\n",
       "LATE_AIRCRAFT_DELAY     -0.010356\n",
       "DESTINATION_LATITUDE    -0.029117\n",
       "AIR_TIME                -0.068825\n",
       "ELAPSED_TIME            -0.087892\n",
       "Name: DIVERTED, dtype: float64"
      ]
     },
     "execution_count": 18,
     "metadata": {},
     "output_type": "execute_result"
    }
   ],
   "source": [
    "target = 'DIVERTED'\n",
    "corr_matrix = df.corr()\n",
    "corr_matrix[target].sort_values(ascending=False)"
   ]
  },
  {
   "cell_type": "markdown",
   "metadata": {},
   "source": [
    "### 3.1 Replacing Values"
   ]
  },
  {
   "cell_type": "markdown",
   "metadata": {},
   "source": [
    "Named categorical variables can be changed to nummeric values with the help of dictionary comprehensions. \n",
    "This is particularly useful when the categories count is high and you don't wish to type out each mapping manually. \n",
    "Category names are stored in a list called \"labels\", zipped to a seqeunce of numbers and iterated over."
   ]
  },
  {
   "cell_type": "code",
   "execution_count": 19,
   "metadata": {},
   "outputs": [],
   "source": [
    "def names_categorical(col):\n",
    "    '''Converts names in columns to numerical values, and change the data type to category'''\n",
    "    labels = df[col].astype('category').cat.categories.tolist()\n",
    "    replace_map_comp = {col : {k: v for k,v in zip(labels,list(range(1,len(labels)+1)))}}\n",
    "    df.replace(replace_map_comp, inplace=True)"
   ]
  },
  {
   "cell_type": "code",
   "execution_count": 20,
   "metadata": {},
   "outputs": [],
   "source": [
    "categoricals = ('AIRLINE', 'ORIGIN_AIRPORT', 'DESTINATION_AIRPORT', 'DESTINATION_STATE')#,'FLIGHT_NUMBER') # there are too many 'TAIL_NUMBER', 'FLIGHT_NUMBERSs!\n",
    "\n",
    "for c in categoricals:\n",
    "    names_categorical(c)                      "
   ]
  },
  {
   "cell_type": "code",
   "execution_count": 21,
   "metadata": {},
   "outputs": [],
   "source": [
    "df.drop(columns=['airline_full_name',\n",
    "       'ORIGIN_CITY', 'ORIGIN_STATE', 'ORIGIN_LATITUDE', 'ORIGIN_LONGITUDE',\n",
    "       'DESTINATION_CITY', 'DESTINATION_LATITUDE',\n",
    "       'DESTINATION_LONGITUDE'], inplace=True)"
   ]
  },
  {
   "cell_type": "markdown",
   "metadata": {},
   "source": [
    "### 3.2 One Hot Encoding\n",
    "\n",
    "The strategy is to convert each category value into a new column and assign a 1 or 0 (True/False) value to the column. This has the benefit of not weighting a value improperly.\n",
    "\n",
    "There are many libraries out there that support one-hot encoding but the simplest one is using pandas' .get_dummies() method.\n",
    "For this to work the categorical and numerical features must be identified and seperated into lists.\n",
    "\n",
    "https://pandas.pydata.org/pandas-docs/stable/reference/api/pandas.get_dummies.html"
   ]
  },
  {
   "cell_type": "markdown",
   "metadata": {},
   "source": [
    "#### 3.2.1 Splitting Out of Categorical Variables"
   ]
  },
  {
   "cell_type": "code",
   "execution_count": 22,
   "metadata": {},
   "outputs": [],
   "source": [
    "cat_list = ['MONTH','DAY_OF_WEEK','AIRLINE','ORIGIN_AIRPORT','DESTINATION_AIRPORT','DESTINATION_STATE', 'FLIGHT_NUMBER']    "
   ]
  },
  {
   "cell_type": "code",
   "execution_count": 23,
   "metadata": {},
   "outputs": [],
   "source": [
    "for c in cat_list:\n",
    "    df[c] = df[c].astype('category')"
   ]
  },
  {
   "cell_type": "markdown",
   "metadata": {},
   "source": [
    "#### 3.2.2 Defining Numerical Variables"
   ]
  },
  {
   "cell_type": "code",
   "execution_count": 24,
   "metadata": {},
   "outputs": [],
   "source": [
    "num_list = ['SCHEDULED_DEPARTURE',\n",
    "            'LATE_AIRCRAFT_DELAY',\n",
    "            'AIRLINE_DELAY',\n",
    "            'WEATHER_DELAY',\n",
    "            'AIR_SYSTEM_DELAY',\n",
    "            'DISTANCE']"
   ]
  },
  {
   "cell_type": "markdown",
   "metadata": {},
   "source": [
    "ALEX WORK"
   ]
  },
  {
   "cell_type": "markdown",
   "metadata": {},
   "source": [
    "#### 3.3.3 Defining X and y"
   ]
  },
  {
   "cell_type": "code",
   "execution_count": 25,
   "metadata": {},
   "outputs": [],
   "source": [
    "y = df[target]\n",
    "X = df.drop(columns=[target])"
   ]
  },
  {
   "cell_type": "code",
   "execution_count": 26,
   "metadata": {},
   "outputs": [],
   "source": [
    "num_features = X[num_list]\n",
    "X_num = num_features\n",
    "cat_features = X[cat_list]"
   ]
  },
  {
   "cell_type": "markdown",
   "metadata": {},
   "source": [
    "#### 3.3.4 Perform One-Hot-Encoding"
   ]
  },
  {
   "cell_type": "code",
   "execution_count": 27,
   "metadata": {
    "scrolled": true
   },
   "outputs": [
    {
     "data": {
      "text/html": [
       "<div>\n",
       "<style scoped>\n",
       "    .dataframe tbody tr th:only-of-type {\n",
       "        vertical-align: middle;\n",
       "    }\n",
       "\n",
       "    .dataframe tbody tr th {\n",
       "        vertical-align: top;\n",
       "    }\n",
       "\n",
       "    .dataframe thead th {\n",
       "        text-align: right;\n",
       "    }\n",
       "</style>\n",
       "<table border=\"1\" class=\"dataframe\">\n",
       "  <thead>\n",
       "    <tr style=\"text-align: right;\">\n",
       "      <th></th>\n",
       "      <th>MONTH_2</th>\n",
       "      <th>MONTH_3</th>\n",
       "      <th>MONTH_4</th>\n",
       "      <th>MONTH_5</th>\n",
       "      <th>MONTH_6</th>\n",
       "      <th>MONTH_7</th>\n",
       "      <th>MONTH_8</th>\n",
       "      <th>MONTH_9</th>\n",
       "      <th>MONTH_11</th>\n",
       "      <th>MONTH_12</th>\n",
       "      <th>...</th>\n",
       "      <th>FLIGHT_NUMBER_6599</th>\n",
       "      <th>FLIGHT_NUMBER_6629</th>\n",
       "      <th>FLIGHT_NUMBER_6640</th>\n",
       "      <th>FLIGHT_NUMBER_6681</th>\n",
       "      <th>FLIGHT_NUMBER_6741</th>\n",
       "      <th>FLIGHT_NUMBER_6824</th>\n",
       "      <th>FLIGHT_NUMBER_7402</th>\n",
       "      <th>FLIGHT_NUMBER_7414</th>\n",
       "      <th>FLIGHT_NUMBER_7415</th>\n",
       "      <th>FLIGHT_NUMBER_7416</th>\n",
       "    </tr>\n",
       "  </thead>\n",
       "  <tbody>\n",
       "    <tr>\n",
       "      <td>0</td>\n",
       "      <td>0</td>\n",
       "      <td>0</td>\n",
       "      <td>0</td>\n",
       "      <td>0</td>\n",
       "      <td>0</td>\n",
       "      <td>1</td>\n",
       "      <td>0</td>\n",
       "      <td>0</td>\n",
       "      <td>0</td>\n",
       "      <td>0</td>\n",
       "      <td>...</td>\n",
       "      <td>0</td>\n",
       "      <td>0</td>\n",
       "      <td>0</td>\n",
       "      <td>0</td>\n",
       "      <td>0</td>\n",
       "      <td>0</td>\n",
       "      <td>0</td>\n",
       "      <td>0</td>\n",
       "      <td>0</td>\n",
       "      <td>0</td>\n",
       "    </tr>\n",
       "  </tbody>\n",
       "</table>\n",
       "<p>1 rows × 2050 columns</p>\n",
       "</div>"
      ],
      "text/plain": [
       "   MONTH_2  MONTH_3  MONTH_4  MONTH_5  MONTH_6  MONTH_7  MONTH_8  MONTH_9  \\\n",
       "0        0        0        0        0        0        1        0        0   \n",
       "\n",
       "   MONTH_11  MONTH_12  ...  FLIGHT_NUMBER_6599  FLIGHT_NUMBER_6629  \\\n",
       "0         0         0  ...                   0                   0   \n",
       "\n",
       "   FLIGHT_NUMBER_6640  FLIGHT_NUMBER_6681  FLIGHT_NUMBER_6741  \\\n",
       "0                   0                   0                   0   \n",
       "\n",
       "   FLIGHT_NUMBER_6824  FLIGHT_NUMBER_7402  FLIGHT_NUMBER_7414  \\\n",
       "0                   0                   0                   0   \n",
       "\n",
       "   FLIGHT_NUMBER_7415  FLIGHT_NUMBER_7416  \n",
       "0                   0                   0  \n",
       "\n",
       "[1 rows x 2050 columns]"
      ]
     },
     "execution_count": 27,
     "metadata": {},
     "output_type": "execute_result"
    }
   ],
   "source": [
    "X_cat = pd.get_dummies(cat_features, columns=cat_list, drop_first=True)\n",
    "X_cat.head(1)"
   ]
  },
  {
   "cell_type": "code",
   "execution_count": 28,
   "metadata": {},
   "outputs": [
    {
     "data": {
      "text/plain": [
       "(51376, 2056)"
      ]
     },
     "execution_count": 28,
     "metadata": {},
     "output_type": "execute_result"
    }
   ],
   "source": [
    "x2 = pd.concat([X_cat , X_num], axis = 1)\n",
    "x2.shape"
   ]
  },
  {
   "cell_type": "code",
   "execution_count": 29,
   "metadata": {},
   "outputs": [
    {
     "name": "stdout",
     "output_type": "stream",
     "text": [
      "0    41009\n",
      "1       91\n",
      "Name: DIVERTED, dtype: int64\n"
     ]
    }
   ],
   "source": [
    "X_train, X_test, y_train, y_test = train_test_split(x2, y, test_size = 0.2, random_state=42)\n",
    "print(pd.Series(y_train).value_counts())"
   ]
  },
  {
   "cell_type": "code",
   "execution_count": 30,
   "metadata": {},
   "outputs": [
    {
     "name": "stdout",
     "output_type": "stream",
     "text": [
      "0    41009\n",
      "1       91\n",
      "Name: DIVERTED, dtype: int64\n"
     ]
    }
   ],
   "source": [
    "X_train_initial, X_test, y_train_initial, y_test = train_test_split(x2, \n",
    "                                                                    y, \n",
    "                                                                    test_size=0.2, \n",
    "                                                                    random_state=42)\n",
    "print(pd.Series(y_train_initial).value_counts())"
   ]
  },
  {
   "cell_type": "code",
   "execution_count": 31,
   "metadata": {},
   "outputs": [],
   "source": [
    "X_train, X_val, y_train, y_val = train_test_split(X_train_initial, \n",
    "                                                  y_train_initial, \n",
    "                                                  test_size=0.2,\n",
    "                                                  random_state=42)"
   ]
  },
  {
   "cell_type": "code",
   "execution_count": 32,
   "metadata": {},
   "outputs": [
    {
     "data": {
      "text/plain": [
       "12484    0\n",
       "43116    0\n",
       "591      0\n",
       "32929    0\n",
       "36646    0\n",
       "        ..\n",
       "66       0\n",
       "28832    0\n",
       "21642    0\n",
       "50979    0\n",
       "46322    0\n",
       "Name: DIVERTED, Length: 8220, dtype: int64"
      ]
     },
     "execution_count": 32,
     "metadata": {},
     "output_type": "execute_result"
    }
   ],
   "source": [
    "y_val"
   ]
  },
  {
   "cell_type": "markdown",
   "metadata": {},
   "source": [
    "##### 3.3.5 Perform Scaling\n",
    "\n",
    "For the logistic regression model to be run in the next section, the data needed to be scaled. \n",
    "\n",
    "This increases the speed of optimisation, and is required when l1 and l2 penalties are aplied, as these will be dependent upon the relative size of the features. The transformation is done using StandardScaler.One \n",
    "\n",
    "https://scikit-learn.org/stable/modules/generated/sklearn.preprocessing.StandardScaler.html"
   ]
  },
  {
   "cell_type": "code",
   "execution_count": 33,
   "metadata": {},
   "outputs": [],
   "source": [
    "scaler = StandardScaler()\n",
    "X_scaled = pd.DataFrame(scaler.fit_transform(X_train))\n",
    "X_val_scaled = pd.DataFrame(scaler.transform(X_val))\n",
    "X_test_scaled = pd.DataFrame(scaler.transform(X_test))"
   ]
  },
  {
   "cell_type": "code",
   "execution_count": null,
   "metadata": {},
   "outputs": [],
   "source": [
    "X_train.head()"
   ]
  },
  {
   "cell_type": "code",
   "execution_count": null,
   "metadata": {},
   "outputs": [],
   "source": []
  },
  {
   "cell_type": "markdown",
   "metadata": {},
   "source": [
    "#### 3.3.6 Rejoin nummeric and categorical variables"
   ]
  },
  {
   "cell_type": "code",
   "execution_count": null,
   "metadata": {},
   "outputs": [],
   "source": []
  },
  {
   "cell_type": "markdown",
   "metadata": {},
   "source": [
    "## 4. Modelling\n",
    "### 4.1. Train-Test split & KFold Validation\n",
    "\n",
    "In order to be able to validate the model we had to split the dataset into train, validation and test segments: using the scikit learn train_test_split function:\n",
    "\n",
    "https://scikit-learn.org/stable/modules/generated/sklearn.model_selection.train_test_split.html"
   ]
  },
  {
   "cell_type": "code",
   "execution_count": null,
   "metadata": {},
   "outputs": [],
   "source": []
  },
  {
   "cell_type": "code",
   "execution_count": null,
   "metadata": {},
   "outputs": [],
   "source": [
    "X_train_resampled"
   ]
  },
  {
   "cell_type": "code",
   "execution_count": null,
   "metadata": {},
   "outputs": [],
   "source": [
    "y_train_resampled"
   ]
  },
  {
   "cell_type": "markdown",
   "metadata": {},
   "source": [
    "### 4.2 Using SMOTE to address Class Imbalance\n",
    "\n",
    "SMOTE - Synthetic Minority Over-sampling Technique is used to address class imbalances, to improve model performance on minority classes.\n",
    "\n",
    "https://imbalanced-learn.readthedocs.io/en/stable/generated/imblearn.over_sampling.SMOTE.html"
   ]
  },
  {
   "cell_type": "code",
   "execution_count": 34,
   "metadata": {},
   "outputs": [
    {
     "name": "stdout",
     "output_type": "stream",
     "text": [
      "SMOTE +++++++++++++++++++++\n",
      "1    32808\n",
      "0    32808\n",
      "Name: DIVERTED, dtype: int64\n"
     ]
    }
   ],
   "source": [
    "from imblearn.over_sampling import SMOTE, ADASYN\n",
    "\n",
    "X_train_resampled, y_train_resampled = SMOTE().fit_sample(X_scaled, y_train) \n",
    "\n",
    "# Preview synthetic sample class distribution\n",
    "print('SMOTE +++++++++++++++++++++')\n",
    "print(pd.Series(y_train_resampled).value_counts()) "
   ]
  },
  {
   "cell_type": "code",
   "execution_count": null,
   "metadata": {},
   "outputs": [],
   "source": [
    "tree_clf = DecisionTreeClassifier(criterion='gini', max_depth=5) \n",
    "tree_clf.fit(X_train_resampled,y_train_resampled)"
   ]
  },
  {
   "cell_type": "code",
   "execution_count": null,
   "metadata": {},
   "outputs": [],
   "source": [
    "bagged_tree =  BaggingClassifier(DecisionTreeClassifier(criterion='gini', max_depth=5), \n",
    "                                 n_estimators=20)\n",
    "bagged_tree.fit(X_train_resampled,y_train_resampled)"
   ]
  },
  {
   "cell_type": "code",
   "execution_count": null,
   "metadata": {},
   "outputs": [],
   "source": [
    "bagged_tree.score(X_train_resampled,y_train_resampled)"
   ]
  },
  {
   "cell_type": "markdown",
   "metadata": {},
   "source": [
    "Iteration 1"
   ]
  },
  {
   "cell_type": "code",
   "execution_count": 35,
   "metadata": {},
   "outputs": [
    {
     "data": {
      "text/plain": [
       "RandomForestClassifier(bootstrap=True, ccp_alpha=0.0, class_weight=None,\n",
       "                       criterion='gini', max_depth=5, max_features='auto',\n",
       "                       max_leaf_nodes=None, max_samples=None,\n",
       "                       min_impurity_decrease=0.0, min_impurity_split=None,\n",
       "                       min_samples_leaf=1, min_samples_split=2,\n",
       "                       min_weight_fraction_leaf=0.0, n_estimators=100,\n",
       "                       n_jobs=None, oob_score=False, random_state=None,\n",
       "                       verbose=0, warm_start=False)"
      ]
     },
     "execution_count": 35,
     "metadata": {},
     "output_type": "execute_result"
    }
   ],
   "source": []
  },
  {
   "cell_type": "code",
   "execution_count": 36,
   "metadata": {},
   "outputs": [
    {
     "data": {
      "text/plain": [
       "0.9476804437941966"
      ]
     },
     "execution_count": 36,
     "metadata": {},
     "output_type": "execute_result"
    }
   ],
   "source": [
    "forest.score(X_train_resampled,y_train_resampled)"
   ]
  },
  {
   "cell_type": "code",
   "execution_count": null,
   "metadata": {},
   "outputs": [],
   "source": []
  },
  {
   "cell_type": "code",
   "execution_count": 50,
   "metadata": {},
   "outputs": [
    {
     "data": {
      "text/plain": [
       "GridSearchCV(cv=StratifiedKFold(n_splits=3, random_state=50, shuffle=False),\n",
       "             error_score=nan,\n",
       "             estimator=RandomForestClassifier(bootstrap=True, ccp_alpha=0.0,\n",
       "                                              class_weight=None,\n",
       "                                              criterion='gini', max_depth=5,\n",
       "                                              max_features='auto',\n",
       "                                              max_leaf_nodes=None,\n",
       "                                              max_samples=None,\n",
       "                                              min_impurity_decrease=0.0,\n",
       "                                              min_impurity_split=None,\n",
       "                                              min_samples_leaf=1,\n",
       "                                              min_samples_split=2,\n",
       "                                              min_weight_fraction_leaf=0.0,\n",
       "                                              n_estimators=100, n_jobs=None,\n",
       "                                              oob_score=False,\n",
       "                                              random_state=None, verbose=0,\n",
       "                                              warm_start=False),\n",
       "             iid='deprecated', n_jobs=-1,\n",
       "             param_grid={'max_depth': [100, 1000, 5000, 10000],\n",
       "                         'min_samples_leaf': [1, 5, 10]},\n",
       "             pre_dispatch='2*n_jobs', refit=True, return_train_score=False,\n",
       "             scoring='roc_auc', verbose=0)"
      ]
     },
     "execution_count": 50,
     "metadata": {},
     "output_type": "execute_result"
    }
   ],
   "source": [
    "paramgrid = {'max_depth': [100 , 1000 , 5000, 10000] , 'min_samples_leaf':[1 , 5 , 10]}\n",
    "fgrid = GridSearchCV(forest , paramgrid , scoring = 'roc_auc' , n_jobs = -1 , cv = skf , return_train_score=False)\n",
    "fgrid.fit(X_train_resampled,y_train_resampled)"
   ]
  },
  {
   "cell_type": "code",
   "execution_count": 49,
   "metadata": {},
   "outputs": [
    {
     "data": {
      "text/plain": [
       "{'max_depth': 1000, 'min_samples_leaf': 1}"
      ]
     },
     "execution_count": 49,
     "metadata": {},
     "output_type": "execute_result"
    }
   ],
   "source": [
    "fgrid.best_params_"
   ]
  },
  {
   "cell_type": "code",
   "execution_count": 51,
   "metadata": {},
   "outputs": [
    {
     "data": {
      "text/plain": [
       "{'max_depth': 1000, 'min_samples_leaf': 1}"
      ]
     },
     "execution_count": 51,
     "metadata": {},
     "output_type": "execute_result"
    }
   ],
   "source": [
    "fgrid.best_params_"
   ]
  },
  {
   "cell_type": "code",
   "execution_count": 52,
   "metadata": {},
   "outputs": [
    {
     "data": {
      "text/plain": [
       "GridSearchCV(cv=StratifiedKFold(n_splits=3, random_state=50, shuffle=False),\n",
       "             error_score=nan,\n",
       "             estimator=RandomForestClassifier(bootstrap=True, ccp_alpha=0.0,\n",
       "                                              class_weight=None,\n",
       "                                              criterion='gini', max_depth=5,\n",
       "                                              max_features='auto',\n",
       "                                              max_leaf_nodes=None,\n",
       "                                              max_samples=None,\n",
       "                                              min_impurity_decrease=0.0,\n",
       "                                              min_impurity_split=None,\n",
       "                                              min_samples_leaf=1,\n",
       "                                              min_samples_split=2,\n",
       "                                              min_weight_fraction_leaf=0.0,\n",
       "                                              n_estimators=100, n_jobs=None,\n",
       "                                              oob_score=False,\n",
       "                                              random_state=None, verbose=0,\n",
       "                                              warm_start=False),\n",
       "             iid='deprecated', n_jobs=-1,\n",
       "             param_grid={'max_depth': [100, 1000, 2000],\n",
       "                         'min_samples_leaf': [1, 2, 3, 4]},\n",
       "             pre_dispatch='2*n_jobs', refit=True, return_train_score=False,\n",
       "             scoring='roc_auc', verbose=0)"
      ]
     },
     "execution_count": 52,
     "metadata": {},
     "output_type": "execute_result"
    }
   ],
   "source": [
    "paramgrid = {'max_depth': [100 , 1000 , 2000] , 'min_samples_leaf':[1 , 2 , 3 , 4]}\n",
    "fgrid = GridSearchCV(forest , paramgrid , scoring = 'roc_auc' , n_jobs = -1 , cv = skf , return_train_score=False)\n",
    "fgrid.fit(X_train_resampled,y_train_resampled)"
   ]
  },
  {
   "cell_type": "code",
   "execution_count": 53,
   "metadata": {},
   "outputs": [
    {
     "data": {
      "text/plain": [
       "{'max_depth': 1000, 'min_samples_leaf': 4}"
      ]
     },
     "execution_count": 53,
     "metadata": {},
     "output_type": "execute_result"
    }
   ],
   "source": [
    "fgrid.best_params_"
   ]
  },
  {
   "cell_type": "code",
   "execution_count": 60,
   "metadata": {},
   "outputs": [
    {
     "data": {
      "text/plain": [
       "array([0.02303281, 0.05631293, 0.02964023, ..., 0.97363042, 0.98881731,\n",
       "       0.97298419])"
      ]
     },
     "execution_count": 60,
     "metadata": {},
     "output_type": "execute_result"
    }
   ],
   "source": [
    "best = fgrid.best_estimator_.predict_proba(X_train_resampled)[:,1]\n",
    "best"
   ]
  },
  {
   "cell_type": "code",
   "execution_count": 97,
   "metadata": {},
   "outputs": [],
   "source": [
    "best_model = fgrid.best_estimator_"
   ]
  },
  {
   "cell_type": "code",
   "execution_count": 37,
   "metadata": {},
   "outputs": [],
   "source": [
    "from sklearn.model_selection import StratifiedKFold\n",
    "from sklearn import datasets, linear_model\n",
    "from sklearn.model_selection import cross_val_predict\n",
    "skf = StratifiedKFold(n_splits=5,random_state=42)\n",
    "y_prob = cross_val_predict(forest,X_train_resampled,y_train_resampled,method='predict_proba', cv=skf)[:,1]"
   ]
  },
  {
   "cell_type": "code",
   "execution_count": 38,
   "metadata": {},
   "outputs": [],
   "source": [
    "fpr,tpr,threshold = roc_curve(y_train_resampled, y_prob)\n"
   ]
  },
  {
   "cell_type": "code",
   "execution_count": 39,
   "metadata": {},
   "outputs": [
    {
     "data": {
      "image/png": "[encoded data removed]",
      "text/plain": [
       "<Figure size 864x576 with 1 Axes>"
      ]
     },
     "metadata": {},
     "output_type": "display_data"
    }
   ],
   "source": [
    "def plot_roc_curve(fpr, tpr, label=None):\n",
    "    fig = plt.figure(figsize=(12,8))\n",
    "    plt.plot(fpr,tpr,linewidth= 2, label=label)\n",
    "    plt.plot([0,1], [0,1],'k--')\n",
    "    plt.xlabel('False Positive Rate')\n",
    "    plt.ylabel('True Positive Rate (Recall)')\n",
    "    plt.title('Roc Curve for Random Forrest Classifier')\n",
    "    plt.legend(loc=4)\n",
    "\n",
    "plot_roc_curve(fpr, tpr, label='Optimum Model')\n",
    "plt.show()"
   ]
  },
  {
   "cell_type": "code",
   "execution_count": 63,
   "metadata": {},
   "outputs": [],
   "source": [
    "y_score = forest.predict_proba(X_train_resampled)[:,1]\n",
    "FPR , TPR , Thresholds = roc_curve(y_train_resampled , y_score) "
   ]
  },
  {
   "cell_type": "code",
   "execution_count": 77,
   "metadata": {},
   "outputs": [],
   "source": [
    "tdf = pd.DataFrame(data = [FPR , TPR , Thresholds])\n",
    "tdf = tdf.T\n",
    "tdf.columns = ['FPR' , 'TPR' , 'Thresholds']\n",
    "tdf.head()\n",
    "tdf['FM'] = 0\n",
    "\n",
    "\n",
    "\n",
    "\n"
   ]
  },
  {
   "cell_type": "markdown",
   "metadata": {},
   "source": [
    "Cost of FP = 20 (they paid 20 that they would usually have not paid and got nothing in return)\n",
    "Cost of TN = 0 (business as usual for them no gain or loss)\n",
    "Cost of FN = 0 (business as usual for them no gain or loss)\n",
    "Cost of TP = - 365 (they paid 20 that they would usually have not paid and got the value of the flight back which they would usually have not got)\n",
    "Prevalence is equal to 2.5%"
   ]
  },
  {
   "cell_type": "code",
   "execution_count": 79,
   "metadata": {},
   "outputs": [],
   "source": [
    "CFP = 20\n",
    "CTN = 0\n",
    "CFN = 0\n",
    "CTP = -365\n",
    "prev = 0.025\n",
    "def search_for_m(prev , CFP , CTN , CFN , CTP):\n",
    "    x = (1 - prev) / prev\n",
    "    c = (CFP - CTN) / (CFN - CTP)\n",
    "    return x*c"
   ]
  },
  {
   "cell_type": "code",
   "execution_count": 86,
   "metadata": {},
   "outputs": [],
   "source": [
    "def objective_function(TPR , FPR , m):\n",
    "    return TPR - m*FPR"
   ]
  },
  {
   "cell_type": "code",
   "execution_count": 84,
   "metadata": {},
   "outputs": [
    {
     "data": {
      "text/plain": [
       "2.1369863013698627"
      ]
     },
     "execution_count": 84,
     "metadata": {},
     "output_type": "execute_result"
    }
   ],
   "source": [
    "m = search_for_m(prev , CFP , CTN , CFN , CTP)\n",
    "m"
   ]
  },
  {
   "cell_type": "code",
   "execution_count": 92,
   "metadata": {},
   "outputs": [
    {
     "data": {
      "text/html": [
       "<div>\n",
       "<style scoped>\n",
       "    .dataframe tbody tr th:only-of-type {\n",
       "        vertical-align: middle;\n",
       "    }\n",
       "\n",
       "    .dataframe tbody tr th {\n",
       "        vertical-align: top;\n",
       "    }\n",
       "\n",
       "    .dataframe thead th {\n",
       "        text-align: right;\n",
       "    }\n",
       "</style>\n",
       "<table border=\"1\" class=\"dataframe\">\n",
       "  <thead>\n",
       "    <tr style=\"text-align: right;\">\n",
       "      <th></th>\n",
       "      <th>FPR</th>\n",
       "      <th>TPR</th>\n",
       "      <th>Thresholds</th>\n",
       "      <th>FM</th>\n",
       "    </tr>\n",
       "  </thead>\n",
       "  <tbody>\n",
       "    <tr>\n",
       "      <td>11811</td>\n",
       "      <td>1.000000</td>\n",
       "      <td>1.000000</td>\n",
       "      <td>0.166685</td>\n",
       "      <td>-1.136986</td>\n",
       "    </tr>\n",
       "    <tr>\n",
       "      <td>11810</td>\n",
       "      <td>0.999817</td>\n",
       "      <td>1.000000</td>\n",
       "      <td>0.188707</td>\n",
       "      <td>-1.136595</td>\n",
       "    </tr>\n",
       "    <tr>\n",
       "      <td>11809</td>\n",
       "      <td>0.999756</td>\n",
       "      <td>1.000000</td>\n",
       "      <td>0.189212</td>\n",
       "      <td>-1.136465</td>\n",
       "    </tr>\n",
       "    <tr>\n",
       "      <td>11808</td>\n",
       "      <td>0.999086</td>\n",
       "      <td>1.000000</td>\n",
       "      <td>0.205011</td>\n",
       "      <td>-1.135032</td>\n",
       "    </tr>\n",
       "    <tr>\n",
       "      <td>11807</td>\n",
       "      <td>0.999025</td>\n",
       "      <td>1.000000</td>\n",
       "      <td>0.205056</td>\n",
       "      <td>-1.134902</td>\n",
       "    </tr>\n",
       "    <tr>\n",
       "      <td>...</td>\n",
       "      <td>...</td>\n",
       "      <td>...</td>\n",
       "      <td>...</td>\n",
       "      <td>...</td>\n",
       "    </tr>\n",
       "    <tr>\n",
       "      <td>1052</td>\n",
       "      <td>0.019081</td>\n",
       "      <td>0.912979</td>\n",
       "      <td>0.505800</td>\n",
       "      <td>0.872203</td>\n",
       "    </tr>\n",
       "    <tr>\n",
       "      <td>1087</td>\n",
       "      <td>0.021489</td>\n",
       "      <td>0.918252</td>\n",
       "      <td>0.501707</td>\n",
       "      <td>0.872331</td>\n",
       "    </tr>\n",
       "    <tr>\n",
       "      <td>1051</td>\n",
       "      <td>0.018989</td>\n",
       "      <td>0.912979</td>\n",
       "      <td>0.505819</td>\n",
       "      <td>0.872399</td>\n",
       "    </tr>\n",
       "    <tr>\n",
       "      <td>1086</td>\n",
       "      <td>0.021397</td>\n",
       "      <td>0.918252</td>\n",
       "      <td>0.501766</td>\n",
       "      <td>0.872526</td>\n",
       "    </tr>\n",
       "    <tr>\n",
       "      <td>1085</td>\n",
       "      <td>0.021336</td>\n",
       "      <td>0.918252</td>\n",
       "      <td>0.501905</td>\n",
       "      <td>0.872656</td>\n",
       "    </tr>\n",
       "  </tbody>\n",
       "</table>\n",
       "<p>11812 rows × 4 columns</p>\n",
       "</div>"
      ],
      "text/plain": [
       "            FPR       TPR  Thresholds        FM\n",
       "11811  1.000000  1.000000    0.166685 -1.136986\n",
       "11810  0.999817  1.000000    0.188707 -1.136595\n",
       "11809  0.999756  1.000000    0.189212 -1.136465\n",
       "11808  0.999086  1.000000    0.205011 -1.135032\n",
       "11807  0.999025  1.000000    0.205056 -1.134902\n",
       "...         ...       ...         ...       ...\n",
       "1052   0.019081  0.912979    0.505800  0.872203\n",
       "1087   0.021489  0.918252    0.501707  0.872331\n",
       "1051   0.018989  0.912979    0.505819  0.872399\n",
       "1086   0.021397  0.918252    0.501766  0.872526\n",
       "1085   0.021336  0.918252    0.501905  0.872656\n",
       "\n",
       "[11812 rows x 4 columns]"
      ]
     },
     "execution_count": 92,
     "metadata": {},
     "output_type": "execute_result"
    }
   ],
   "source": [
    "tdf.FM = tdf.TPR - m*tdf.FPR\n",
    "tdf.sort_values('FM')"
   ]
  },
  {
   "cell_type": "markdown",
   "metadata": {},
   "source": [
    "We are using random forest for two reasons\n",
    "\n",
    "The first of these is due to the fact that we received the highest validation score on our train data, as demonstrated in our notebook. This means that we are offering the best trained model to our customers and for the business as a whole. We are also using this over our SVM as it took a lot less computational power to run. The second reason is that as this is a dataset with diverse feature types, combining both numerical and categorical variables, for example distance and airplane number respectively. Forests deal well with this kind of dataset as it can make a decision based on multiple facets of data, whilst remaining more accurate\n",
    "\n",
    "We chose a threshold of 50%, as there is not a heavy economic negative for false positives, being only $20. However, a true positive will mean a return of nearly their full investment in their ticket, which is much more valuable. This said, the curve we have is very steep, and therefore the threshold decision does not carry as much weight as it would with other models.\n",
    "\n",
    "From our analysis of the most important features, it would appear that the time of year, and the day are the most important features within our model. We can therefore use this to advise our potential business partners about the best times to run insurance for people. It is apparent that midweek flights are more represented than weekend, this may be due to commuter planes being seen as more important. Also, there seemes to be an importance in the late winter/early spring months, which may co-incide with poor weather, and tornado season in the Midwest. This would serve to increase cancellations across the US. The months are also represented to a higher level than the weekdays, and therefore is better to target with our initial pilot scheme."
   ]
  },
  {
   "cell_type": "code",
   "execution_count": 99,
   "metadata": {},
   "outputs": [],
   "source": [
    "final = best_model.feature_importances_"
   ]
  },
  {
   "cell_type": "markdown",
   "metadata": {},
   "source": [
    "feature_importance = pd.DataFrame(final_model.feature_importances_)\n",
    "feature_importance.rename(columns={0:'Importance'}, inplace=True)\n",
    "feature_importance['Feature'] = X_scaled.columns\n",
    "feature_importance.sort_values(by='Importance', ascending=False, inplace=True)\n",
    "feature_importance.head(20)\n",
    "top_20_features = feature_importance.head(20)\n",
    "plt.figure(figsize=(16,10))\n",
    "sns.barplot(x='Feature', y='Importance', data=top_20_features, palette=\"Blues_d\")\n",
    "plt.xticks(rotation=90)\n",
    "plt.xlabel(\"\")\n",
    "plt.ylabel('Importance', fontsize=14)\n",
    "plt.show()"
   ]
  },
  {
   "cell_type": "code",
   "execution_count": 100,
   "metadata": {},
   "outputs": [],
   "source": [
    "feature_importance = pd.DataFrame(best_model.feature_importances_)"
   ]
  },
  {
   "cell_type": "code",
   "execution_count": 101,
   "metadata": {},
   "outputs": [],
   "source": [
    "feature_importance.rename(columns={0:'Importance'}, inplace=True)"
   ]
  },
  {
   "cell_type": "code",
   "execution_count": 111,
   "metadata": {},
   "outputs": [],
   "source": [
    "feature_importance['Feature'] =X_train.columns"
   ]
  },
  {
   "cell_type": "code",
   "execution_count": 112,
   "metadata": {},
   "outputs": [],
   "source": [
    "feature_importance.sort_values(by='Importance', ascending=False, inplace=True)"
   ]
  },
  {
   "cell_type": "code",
   "execution_count": 122,
   "metadata": {},
   "outputs": [
    {
     "data": {
      "text/html": [
       "<div>\n",
       "<style scoped>\n",
       "    .dataframe tbody tr th:only-of-type {\n",
       "        vertical-align: middle;\n",
       "    }\n",
       "\n",
       "    .dataframe tbody tr th {\n",
       "        vertical-align: top;\n",
       "    }\n",
       "\n",
       "    .dataframe thead th {\n",
       "        text-align: right;\n",
       "    }\n",
       "</style>\n",
       "<table border=\"1\" class=\"dataframe\">\n",
       "  <thead>\n",
       "    <tr style=\"text-align: right;\">\n",
       "      <th></th>\n",
       "      <th>Importance</th>\n",
       "      <th>Feature</th>\n",
       "    </tr>\n",
       "  </thead>\n",
       "  <tbody>\n",
       "    <tr>\n",
       "      <td>1557</td>\n",
       "      <td>0.058254</td>\n",
       "      <td>MONTH_2</td>\n",
       "    </tr>\n",
       "    <tr>\n",
       "      <td>17</td>\n",
       "      <td>0.040838</td>\n",
       "      <td>MONTH_3</td>\n",
       "    </tr>\n",
       "    <tr>\n",
       "      <td>6</td>\n",
       "      <td>0.040418</td>\n",
       "      <td>MONTH_4</td>\n",
       "    </tr>\n",
       "    <tr>\n",
       "      <td>67</td>\n",
       "      <td>0.040060</td>\n",
       "      <td>MONTH_5</td>\n",
       "    </tr>\n",
       "    <tr>\n",
       "      <td>12</td>\n",
       "      <td>0.039304</td>\n",
       "      <td>MONTH_6</td>\n",
       "    </tr>\n",
       "    <tr>\n",
       "      <td>...</td>\n",
       "      <td>...</td>\n",
       "      <td>...</td>\n",
       "    </tr>\n",
       "    <tr>\n",
       "      <td>1191</td>\n",
       "      <td>0.000000</td>\n",
       "      <td>FLIGHT_NUMBER_4050</td>\n",
       "    </tr>\n",
       "    <tr>\n",
       "      <td>1190</td>\n",
       "      <td>0.000000</td>\n",
       "      <td>FLIGHT_NUMBER_4047</td>\n",
       "    </tr>\n",
       "    <tr>\n",
       "      <td>1188</td>\n",
       "      <td>0.000000</td>\n",
       "      <td>FLIGHT_NUMBER_4045</td>\n",
       "    </tr>\n",
       "    <tr>\n",
       "      <td>1195</td>\n",
       "      <td>0.000000</td>\n",
       "      <td>FLIGHT_NUMBER_4037</td>\n",
       "    </tr>\n",
       "    <tr>\n",
       "      <td>1283</td>\n",
       "      <td>0.000000</td>\n",
       "      <td>DISTANCE</td>\n",
       "    </tr>\n",
       "  </tbody>\n",
       "</table>\n",
       "<p>2056 rows × 2 columns</p>\n",
       "</div>"
      ],
      "text/plain": [
       "      Importance             Feature\n",
       "1557    0.058254             MONTH_2\n",
       "17      0.040838             MONTH_3\n",
       "6       0.040418             MONTH_4\n",
       "67      0.040060             MONTH_5\n",
       "12      0.039304             MONTH_6\n",
       "...          ...                 ...\n",
       "1191    0.000000  FLIGHT_NUMBER_4050\n",
       "1190    0.000000  FLIGHT_NUMBER_4047\n",
       "1188    0.000000  FLIGHT_NUMBER_4045\n",
       "1195    0.000000  FLIGHT_NUMBER_4037\n",
       "1283    0.000000            DISTANCE\n",
       "\n",
       "[2056 rows x 2 columns]"
      ]
     },
     "execution_count": 122,
     "metadata": {},
     "output_type": "execute_result"
    }
   ],
   "source": [
    "feature_importance"
   ]
  },
  {
   "cell_type": "code",
   "execution_count": 114,
   "metadata": {},
   "outputs": [],
   "source": [
    "top_20_features = feature_importance.head(20)"
   ]
  },
  {
   "cell_type": "code",
   "execution_count": 115,
   "metadata": {},
   "outputs": [
    {
     "data": {
      "image/png": "[encoded data removed]",
      "text/plain": [
       "<Figure size 1152x720 with 1 Axes>"
      ]
     },
     "metadata": {},
     "output_type": "display_data"
    }
   ],
   "source": [
    "plt.figure(figsize=(16,10))\n",
    "sns.barplot(x='Feature', y='Importance', data=top_20_features, palette=\"Blues_d\")\n",
    "plt.xticks(rotation=90)\n",
    "plt.xlabel(\"\")\n",
    "plt.ylabel('Importance', fontsize=14)\n",
    "plt.show()"
   ]
  },
  {
   "cell_type": "code",
   "execution_count": 123,
   "metadata": {},
   "outputs": [],
   "source": [
    "def pretty_conf_matrix(self):\n",
    "    \n",
    "        cnf_matrix = confusion_matrix(self.y_val, self.y_predicted)\n",
    "        \n",
    "        plt.figure(figsize=(6,6))\n",
    "        plt.imshow(cnf_matrix, cmap=plt.cm.Blues)\n",
    "        \n",
    "        plt.title('Confusion Matrix')\n",
    "        plt.ylabel('True label')\n",
    "        plt.xlabel('Predicted label')\n",
    "        \n",
    "        class_names = set(y)\n",
    "        tick_marks = np.arange(1,2,1)\n",
    "        plt.xticks(tick_marks, [1,0], rotation=45)\n",
    "        plt.yticks(tick_marks, [1,0])\n",
    "\n",
    "        thresh = cnf_matrix.max() / 2.\n",
    "        for i, j in itertools.product(range(cnf_matrix.shape[0]), range(cnf_matrix.shape[1])):\n",
    "                plt.text(j, i, cnf_matrix[i, j],\n",
    "                         horizontalalignment='center')\n",
    "        plt.colorbar"
   ]
  },
  {
   "cell_type": "code",
   "execution_count": 136,
   "metadata": {},
   "outputs": [
    {
     "data": {
      "text/plain": [
       "<matplotlib.axes._subplots.AxesSubplot at 0x1453c37d0>"
      ]
     },
     "execution_count": 136,
     "metadata": {},
     "output_type": "execute_result"
    },
    {
     "data": {
      "image/png": "[encoded data removed]",
      "text/plain": [
       "<Figure size 432x288 with 2 Axes>"
      ]
     },
     "metadata": {},
     "output_type": "display_data"
    }
   ],
   "source": [
    "from sklearn.metrics import confusion_matrix\n",
    "y_score = forest.predict_proba(X_val_scaled)[:,1]\n",
    "pred = y_score > 0.501905\n",
    "confusion_matrix(y_val , pred)\n",
    "sns.heatmap(confusion_matrix(y_val , pred), annot =True)"
   ]
  },
  {
   "cell_type": "markdown",
   "metadata": {},
   "source": [
    "We can see from this confusion matrix that we have a high volume of true negatives, and a low volume of other outcomes. This demonstrates the confidence that we both possess, and can demonstrate, in our machine learning model"
   ]
  },
  {
   "cell_type": "markdown",
   "metadata": {},
   "source": [
    "ALEX WORK END"
   ]
  },
  {
   "cell_type": "code",
   "execution_count": 41,
   "metadata": {},
   "outputs": [
    {
     "name": "stdout",
     "output_type": "stream",
     "text": [
      "CPU times: user 23 µs, sys: 223 µs, total: 246 µs\n",
      "Wall time: 569 µs\n"
     ]
    }
   ],
   "source": [
    "%%time\n",
    "from sklearn.metrics import roc_auc_score, roc_curve, auc"
   ]
  },
  {
   "cell_type": "code",
   "execution_count": 42,
   "metadata": {},
   "outputs": [
    {
     "name": "stdout",
     "output_type": "stream",
     "text": [
      "CPU times: user 46 µs, sys: 293 µs, total: 339 µs\n",
      "Wall time: 680 µs\n"
     ]
    }
   ],
   "source": [
    "%%time\n",
    "skf = StratifiedKFold(n_splits=3,random_state=50)"
   ]
  },
  {
   "cell_type": "code",
   "execution_count": 43,
   "metadata": {},
   "outputs": [],
   "source": [
    "class Classification():\n",
    "    ''' There are 4 types of models used in the class, Logistic Regression, Decision Tree, Random Forest, SVM'''\n",
    "    def __init__(self, model,X_train_resampled, X_val_scaled, y_train_resampled, y_val):\n",
    "        self.model = model\n",
    "        self.X_train_resampled = X_train_resampled\n",
    "        self.y_train_resampled = y_train_resampled\n",
    "        self.X_val_scaled = X_val_scaled\n",
    "        self.y_val = y_val\n",
    "        self.scores_table = pd.DataFrame()\n",
    "        \n",
    "        if self.model == 'Logistic Regression':\n",
    "            self.instantiate = LogisticRegression(fit_intercept=False, solver='liblinear') # don't need to balance due to SMOTE?\n",
    "        elif self.model == 'Decision Tree':\n",
    "            self.instantiate = DecisionTreeClassifier(random_state=42)\n",
    "        elif self.model == 'Random Forest':\n",
    "            self.instantiate = RandomForestClassifier(n_estimators=20, \n",
    "                                                          n_jobs=-1,\n",
    "                                                          random_state=42)\n",
    "        elif self.model == \"SVM\":\n",
    "            self.instantiate = SVC(probability=True,\n",
    "                                   random_state=42)\n",
    "        \n",
    "# SCORE FUNCTION -------------------------------------------------------------\n",
    "        \n",
    "    def scores(self, model, X_train_resampled, X_val_scaled, y_train_resampled, y_val):\n",
    "        \n",
    "        train_prob = model.predict_proba(X_train_resampled)[:,1]\n",
    "        val_prob = model.predict_proba(X_val_scaled)[:,1]\n",
    "        \n",
    "        train_auc = roc_auc_score(y_train_resampled, train_prob)\n",
    "        val_auc = roc_auc_score(y_val, val_prob)\n",
    "        \n",
    "        self.train_auc = train_auc\n",
    "        self.val_auc = val_auc\n",
    "        \n",
    "        self.scores_table = pd.DataFrame()\n",
    "        \n",
    "        self.scores_table[\"Model\"] = [self.model]\n",
    "        self.scores_table[\"Train AUC\"] = [self.train_auc]\n",
    "        self.scores_table[\"Validation AUC\"] = [self.val_auc]\n",
    "        \n",
    "        return self.scores_table\n",
    "    \n",
    "# THRESHOLD ANNOTATION -------------------------------------------------------\n",
    "\n",
    "    def annot(fpr,tpr,thr):\n",
    "        k=0\n",
    "        for i,j in zip(fpr,tpr):\n",
    "            if k % 100 == 0:\n",
    "                plt.annotate(round(thr[k],2),xy=(i,j), textcoords='data')\n",
    "            k+=1\n",
    "            \n",
    "# ROC PLOT FUNCTION ----------------------------------------------------------\n",
    "\n",
    "    def roc_plot(model,X_train_resampled, X_val_scaled, y_train_resampled, y_val):\n",
    "        train_prob = model.predict_proba(X_train_resampled)[:,1]\n",
    "        val_prob = model.predict_proba(X_val_scaled)[:,1]\n",
    "        \n",
    "        plt.figure(figsize=(5,5))\n",
    "        for data in [[y_train_resampled, train_prob],[y_val, val_prob]]:\n",
    "            fpr, tpr, thresh = roc_curve(data[0], data[1])\n",
    "            plt.plot(fpr, tpr)\n",
    "        Classification.annot(fpr, tpr, thresh)\n",
    "        plt.plot([0, 1], [0, 1], color='navy', linestyle='-')\n",
    "        plt.ylabel('TPR (power)')\n",
    "        plt.xlabel('FPR (alpha)')\n",
    "        plt.legend(['train','val'])\n",
    "        plt.show()\n",
    "        \n",
    "# GET SCORES FUNCTION --------------------------------------------------------\n",
    "\n",
    "    def get_scores(self, param_grid, cv_type):\n",
    "        reg = self.instantiate\n",
    "        fit_reg = reg.fit(self.X_train_resampled, self.y_train_resampled)\n",
    "        opt_model = GridSearchCV(fit_reg,\n",
    "                                 param_grid,\n",
    "                                 cv=cv_type,\n",
    "                                 scoring='roc_auc',\n",
    "                                 return_train_score=True,\n",
    "                                 n_jobs=-1)\n",
    "        \n",
    "        self.opt_model = opt_model.fit(self.X_train_resampled, self.y_train_resampled) \n",
    "        self.best_model = opt_model.best_estimator_\n",
    "        self.scores = Classification.scores(self,\n",
    "                                            self.best_model,\n",
    "                                            self.X_train_resampled,\n",
    "                                            self.X_val_scaled,\n",
    "                                            self.y_train_resampled,\n",
    "                                            self.y_val)\n",
    "        \n",
    "        self.best_params = opt_model.best_params_\n",
    "        display(self.scores_table)\n",
    "        print(\"The best returned hyperparameters are: \", self.best_params,'\\n')\n",
    "        self.roc_plot = Classification.roc_plot(self.best_model,\n",
    "                                                self.X_train_resampled,\n",
    "                                                self.X_val_scaled,\n",
    "                                                self.y_train_resampled,\n",
    "                                                self.y_val)\n",
    "        self.y_predicted = opt_model.predict(self.X_val_scaled)\n",
    "        \n",
    "# OPTIMUM PLOT FUCNTION ------------------------------------------------------\n",
    "\n",
    "    def opt_plots(self):\n",
    "        \n",
    "        if self.model == \"Decision Tree\" or self.model == \"Random Forest\":\n",
    "            opt = pd.DataFrame(self.opt_model.cv_results_)\n",
    "            cols = [col for col in opt.columns if ('mean' in col or 'std' in col) and 'time' not in col]\n",
    "            params = pd.DataFrame(list(opt.params))\n",
    "            opt = pd.concat([params, opt[cols]], axis=1, sort=False)\n",
    "            \n",
    "            plt.figure(figsize=[15,4])\n",
    "            plt.subplot(121)\n",
    "            sns.heatmap(pd.pivot_table(opt,\n",
    "                                       index='max_depth',\n",
    "                                       columns='min_samples_leaf',\n",
    "                                       values='mean_train_score')*100) #can add cmap=\"Blues\"\n",
    "            plt.title('ROC_AUC - Training')\n",
    "            plt.subplot(122)\n",
    "            sns.heatmap(pd.pivot_table(opt,\n",
    "                                       index='max_depth',\n",
    "                                       columns='min_samples_leaf',\n",
    "                                       values='mean_test_score')*100)\n",
    "            plt.title('ROC_AUC - Validation')\n",
    "            \n",
    "        else:\n",
    "            print(\"This model does not have an optimum hyperparameter plot!\")\n",
    "        \n",
    "# CONFUSION MATRIX FUNCTION --------------------------------------------------\n",
    "\n",
    "    def conf_matrix(y_true, y_pred):\n",
    "        \n",
    "        con_mat = {'TP': 0, 'TN': 0, 'FP': 0, 'FN': 0}\n",
    "        \n",
    "        for i, label in enumerate(y_true):\n",
    "            \n",
    "            pred = y_pred[i]\n",
    "            if label == 1:\n",
    "                if label == pred:\n",
    "                    con_mat['TP'] += 1\n",
    "                else:\n",
    "                    con_mat['FN'] += 1\n",
    "            else:\n",
    "                if label == pred:\n",
    "                    con_mat['TN'] += 1\n",
    "                else:\n",
    "                    con_mat['FP'] += 1\n",
    "                \n",
    "        return con_mat\n",
    "        \n",
    "# DISPLAY PRETTY CONFUSION MATRIX FUNCTION -----------------------------------\n",
    "\n",
    "    def pretty_conf_matrix(self):\n",
    "        \n",
    "        Classification.conf_matrix(self.y_val, self.y_predicted)\n",
    "        cnf_matrix = confusion_matrix(self.y_val, self.y_predicted)\n",
    "        \n",
    "        plt.figure(figsize=(6,6))\n",
    "        plt.imshow(cnf_matrix, cmap=plt.cm.Blues)\n",
    "        \n",
    "        plt.title('Confusion Matrix')\n",
    "        plt.ylabel('True label')\n",
    "        plt.xlabel('Predicted label')\n",
    "        \n",
    "        class_names = set(y)\n",
    "        tick_marks = np.arange(1,2,1)\n",
    "        plt.xticks(tick_marks, [1,0], rotation=45)\n",
    "        plt.yticks(tick_marks, [1,0])\n",
    "\n",
    "        thresh = cnf_matrix.max() / 2.\n",
    "        for i, j in itertools.product(range(cnf_matrix.shape[0]), range(cnf_matrix.shape[1])):\n",
    "                plt.text(j, i, cnf_matrix[i, j],\n",
    "                         horizontalalignment='center')\n",
    "        plt.colorbar\n",
    "\n",
    "# PLOT DECISION TREE FUCNTION ------------------------------------------------\n",
    "\n",
    "    def plot_dtree(self):\n",
    "        \n",
    "        if self.model == \"Decision Tree\" or self.model == \"Random Forest\":\n",
    "            \n",
    "            dot_data = StringIO()\n",
    "            export_graphviz(self.best_model, \n",
    "                            out_file=dot_data, \n",
    "                            filled=True,\n",
    "                            rounded=True,\n",
    "                            special_characters=True)\n",
    "            graph = pydotplus.graph_from_dot_data(dot_data.getvalue())\n",
    "            graph.write_png(f'{self.model}.png')\n",
    "            image = mpimg.imread(f'{self.model}.png')\n",
    "            plt.figure(figsize=(50,50))\n",
    "            plt.imshow(image)\n",
    "            plt.show()\n",
    "            \n",
    "        else:\n",
    "            \n",
    "            print(\"This model does not have a decision tree plot!\")\n",
    "\n",
    "# GET OPTIMUM THRESHOLD ------------------------------------------------------\n",
    "\n",
    "  #  def get_threshold(self, prev, ctp, ctn, cfp, cfn):     "
   ]
  },
  {
   "cell_type": "markdown",
   "metadata": {},
   "source": [
    "## 4.3 Logistic Regression"
   ]
  },
  {
   "cell_type": "code",
   "execution_count": 44,
   "metadata": {},
   "outputs": [],
   "source": [
    "logistic_regression = Classification('Logistic Regression',X_train_resampled, X_val_scaled, y_train_resampled, y_val)"
   ]
  },
  {
   "cell_type": "code",
   "execution_count": 45,
   "metadata": {},
   "outputs": [
    {
     "name": "stdout",
     "output_type": "stream",
     "text": [
      "(51376, 31)\n",
      "(51376,)\n"
     ]
    }
   ],
   "source": [
    "print(X.shape)\n",
    "print(y.shape)"
   ]
  },
  {
   "cell_type": "code",
   "execution_count": 46,
   "metadata": {},
   "outputs": [
    {
     "ename": "KeyboardInterrupt",
     "evalue": "",
     "output_type": "error",
     "traceback": [
      "\u001b[0;31m---------------------------------------------------------------------------\u001b[0m",
      "\u001b[0;31mKeyboardInterrupt\u001b[0m                         Traceback (most recent call last)",
      "\u001b[0;32m<ipython-input-46-25a38964fa5f>\u001b[0m in \u001b[0;36m<module>\u001b[0;34m\u001b[0m\n\u001b[1;32m      4\u001b[0m     \u001b[0;34m'solver'\u001b[0m\u001b[0;34m:\u001b[0m\u001b[0;34m[\u001b[0m\u001b[0;34m'lbfgs'\u001b[0m\u001b[0;34m,\u001b[0m\u001b[0;34m'liblinear'\u001b[0m\u001b[0;34m,\u001b[0m\u001b[0;34m'sag'\u001b[0m\u001b[0;34m,\u001b[0m\u001b[0;34m'saga'\u001b[0m\u001b[0;34m]\u001b[0m\u001b[0;34m\u001b[0m\u001b[0;34m\u001b[0m\u001b[0m\n\u001b[1;32m      5\u001b[0m }\n\u001b[0;32m----> 6\u001b[0;31m \u001b[0mlogistic_regression\u001b[0m\u001b[0;34m.\u001b[0m\u001b[0mget_scores\u001b[0m\u001b[0;34m(\u001b[0m\u001b[0mparam_grid\u001b[0m\u001b[0;34m,\u001b[0m \u001b[0mskf\u001b[0m\u001b[0;34m)\u001b[0m\u001b[0;34m\u001b[0m\u001b[0;34m\u001b[0m\u001b[0m\n\u001b[0m",
      "\u001b[0;32m<ipython-input-43-75846548e588>\u001b[0m in \u001b[0;36mget_scores\u001b[0;34m(self, param_grid, cv_type)\u001b[0m\n\u001b[1;32m     80\u001b[0m                                  n_jobs=-1)\n\u001b[1;32m     81\u001b[0m \u001b[0;34m\u001b[0m\u001b[0m\n\u001b[0;32m---> 82\u001b[0;31m         \u001b[0mself\u001b[0m\u001b[0;34m.\u001b[0m\u001b[0mopt_model\u001b[0m \u001b[0;34m=\u001b[0m \u001b[0mopt_model\u001b[0m\u001b[0;34m.\u001b[0m\u001b[0mfit\u001b[0m\u001b[0;34m(\u001b[0m\u001b[0mself\u001b[0m\u001b[0;34m.\u001b[0m\u001b[0mX_train_resampled\u001b[0m\u001b[0;34m,\u001b[0m \u001b[0mself\u001b[0m\u001b[0;34m.\u001b[0m\u001b[0my_train_resampled\u001b[0m\u001b[0;34m)\u001b[0m\u001b[0;34m\u001b[0m\u001b[0;34m\u001b[0m\u001b[0m\n\u001b[0m\u001b[1;32m     83\u001b[0m         \u001b[0mself\u001b[0m\u001b[0;34m.\u001b[0m\u001b[0mbest_model\u001b[0m \u001b[0;34m=\u001b[0m \u001b[0mopt_model\u001b[0m\u001b[0;34m.\u001b[0m\u001b[0mbest_estimator_\u001b[0m\u001b[0;34m\u001b[0m\u001b[0;34m\u001b[0m\u001b[0m\n\u001b[1;32m     84\u001b[0m         self.scores = Classification.scores(self,\n",
      "\u001b[0;32m/opt/anaconda3/lib/python3.7/site-packages/sklearn/model_selection/_search.py\u001b[0m in \u001b[0;36mfit\u001b[0;34m(self, X, y, groups, **fit_params)\u001b[0m\n\u001b[1;32m    708\u001b[0m                 \u001b[0;32mreturn\u001b[0m \u001b[0mresults\u001b[0m\u001b[0;34m\u001b[0m\u001b[0;34m\u001b[0m\u001b[0m\n\u001b[1;32m    709\u001b[0m \u001b[0;34m\u001b[0m\u001b[0m\n\u001b[0;32m--> 710\u001b[0;31m             \u001b[0mself\u001b[0m\u001b[0;34m.\u001b[0m\u001b[0m_run_search\u001b[0m\u001b[0;34m(\u001b[0m\u001b[0mevaluate_candidates\u001b[0m\u001b[0;34m)\u001b[0m\u001b[0;34m\u001b[0m\u001b[0;34m\u001b[0m\u001b[0m\n\u001b[0m\u001b[1;32m    711\u001b[0m \u001b[0;34m\u001b[0m\u001b[0m\n\u001b[1;32m    712\u001b[0m         \u001b[0;31m# For multi-metric evaluation, store the best_index_, best_params_ and\u001b[0m\u001b[0;34m\u001b[0m\u001b[0;34m\u001b[0m\u001b[0;34m\u001b[0m\u001b[0m\n",
      "\u001b[0;32m/opt/anaconda3/lib/python3.7/site-packages/sklearn/model_selection/_search.py\u001b[0m in \u001b[0;36m_run_search\u001b[0;34m(self, evaluate_candidates)\u001b[0m\n\u001b[1;32m   1149\u001b[0m     \u001b[0;32mdef\u001b[0m \u001b[0m_run_search\u001b[0m\u001b[0;34m(\u001b[0m\u001b[0mself\u001b[0m\u001b[0;34m,\u001b[0m \u001b[0mevaluate_candidates\u001b[0m\u001b[0;34m)\u001b[0m\u001b[0;34m:\u001b[0m\u001b[0;34m\u001b[0m\u001b[0;34m\u001b[0m\u001b[0m\n\u001b[1;32m   1150\u001b[0m         \u001b[0;34m\"\"\"Search all candidates in param_grid\"\"\"\u001b[0m\u001b[0;34m\u001b[0m\u001b[0;34m\u001b[0m\u001b[0m\n\u001b[0;32m-> 1151\u001b[0;31m         \u001b[0mevaluate_candidates\u001b[0m\u001b[0;34m(\u001b[0m\u001b[0mParameterGrid\u001b[0m\u001b[0;34m(\u001b[0m\u001b[0mself\u001b[0m\u001b[0;34m.\u001b[0m\u001b[0mparam_grid\u001b[0m\u001b[0;34m)\u001b[0m\u001b[0;34m)\u001b[0m\u001b[0;34m\u001b[0m\u001b[0;34m\u001b[0m\u001b[0m\n\u001b[0m\u001b[1;32m   1152\u001b[0m \u001b[0;34m\u001b[0m\u001b[0m\n\u001b[1;32m   1153\u001b[0m \u001b[0;34m\u001b[0m\u001b[0m\n",
      "\u001b[0;32m/opt/anaconda3/lib/python3.7/site-packages/sklearn/model_selection/_search.py\u001b[0m in \u001b[0;36mevaluate_candidates\u001b[0;34m(candidate_params)\u001b[0m\n\u001b[1;32m    687\u001b[0m                                \u001b[0;32mfor\u001b[0m \u001b[0mparameters\u001b[0m\u001b[0;34m,\u001b[0m \u001b[0;34m(\u001b[0m\u001b[0mtrain\u001b[0m\u001b[0;34m,\u001b[0m \u001b[0mtest\u001b[0m\u001b[0;34m)\u001b[0m\u001b[0;34m\u001b[0m\u001b[0;34m\u001b[0m\u001b[0m\n\u001b[1;32m    688\u001b[0m                                in product(candidate_params,\n\u001b[0;32m--> 689\u001b[0;31m                                           cv.split(X, y, groups)))\n\u001b[0m\u001b[1;32m    690\u001b[0m \u001b[0;34m\u001b[0m\u001b[0m\n\u001b[1;32m    691\u001b[0m                 \u001b[0;32mif\u001b[0m \u001b[0mlen\u001b[0m\u001b[0;34m(\u001b[0m\u001b[0mout\u001b[0m\u001b[0;34m)\u001b[0m \u001b[0;34m<\u001b[0m \u001b[0;36m1\u001b[0m\u001b[0;34m:\u001b[0m\u001b[0;34m\u001b[0m\u001b[0;34m\u001b[0m\u001b[0m\n",
      "\u001b[0;32m/opt/anaconda3/lib/python3.7/site-packages/joblib/parallel.py\u001b[0m in \u001b[0;36m__call__\u001b[0;34m(self, iterable)\u001b[0m\n\u001b[1;32m    932\u001b[0m \u001b[0;34m\u001b[0m\u001b[0m\n\u001b[1;32m    933\u001b[0m             \u001b[0;32mwith\u001b[0m \u001b[0mself\u001b[0m\u001b[0;34m.\u001b[0m\u001b[0m_backend\u001b[0m\u001b[0;34m.\u001b[0m\u001b[0mretrieval_context\u001b[0m\u001b[0;34m(\u001b[0m\u001b[0;34m)\u001b[0m\u001b[0;34m:\u001b[0m\u001b[0;34m\u001b[0m\u001b[0;34m\u001b[0m\u001b[0m\n\u001b[0;32m--> 934\u001b[0;31m                 \u001b[0mself\u001b[0m\u001b[0;34m.\u001b[0m\u001b[0mretrieve\u001b[0m\u001b[0;34m(\u001b[0m\u001b[0;34m)\u001b[0m\u001b[0;34m\u001b[0m\u001b[0;34m\u001b[0m\u001b[0m\n\u001b[0m\u001b[1;32m    935\u001b[0m             \u001b[0;31m# Make sure that we get a last message telling us we are done\u001b[0m\u001b[0;34m\u001b[0m\u001b[0;34m\u001b[0m\u001b[0;34m\u001b[0m\u001b[0m\n\u001b[1;32m    936\u001b[0m             \u001b[0melapsed_time\u001b[0m \u001b[0;34m=\u001b[0m \u001b[0mtime\u001b[0m\u001b[0;34m.\u001b[0m\u001b[0mtime\u001b[0m\u001b[0;34m(\u001b[0m\u001b[0;34m)\u001b[0m \u001b[0;34m-\u001b[0m \u001b[0mself\u001b[0m\u001b[0;34m.\u001b[0m\u001b[0m_start_time\u001b[0m\u001b[0;34m\u001b[0m\u001b[0;34m\u001b[0m\u001b[0m\n",
      "\u001b[0;32m/opt/anaconda3/lib/python3.7/site-packages/joblib/parallel.py\u001b[0m in \u001b[0;36mretrieve\u001b[0;34m(self)\u001b[0m\n\u001b[1;32m    831\u001b[0m             \u001b[0;32mtry\u001b[0m\u001b[0;34m:\u001b[0m\u001b[0;34m\u001b[0m\u001b[0;34m\u001b[0m\u001b[0m\n\u001b[1;32m    832\u001b[0m                 \u001b[0;32mif\u001b[0m \u001b[0mgetattr\u001b[0m\u001b[0;34m(\u001b[0m\u001b[0mself\u001b[0m\u001b[0;34m.\u001b[0m\u001b[0m_backend\u001b[0m\u001b[0;34m,\u001b[0m \u001b[0;34m'supports_timeout'\u001b[0m\u001b[0;34m,\u001b[0m \u001b[0;32mFalse\u001b[0m\u001b[0;34m)\u001b[0m\u001b[0;34m:\u001b[0m\u001b[0;34m\u001b[0m\u001b[0;34m\u001b[0m\u001b[0m\n\u001b[0;32m--> 833\u001b[0;31m                     \u001b[0mself\u001b[0m\u001b[0;34m.\u001b[0m\u001b[0m_output\u001b[0m\u001b[0;34m.\u001b[0m\u001b[0mextend\u001b[0m\u001b[0;34m(\u001b[0m\u001b[0mjob\u001b[0m\u001b[0;34m.\u001b[0m\u001b[0mget\u001b[0m\u001b[0;34m(\u001b[0m\u001b[0mtimeout\u001b[0m\u001b[0;34m=\u001b[0m\u001b[0mself\u001b[0m\u001b[0;34m.\u001b[0m\u001b[0mtimeout\u001b[0m\u001b[0;34m)\u001b[0m\u001b[0;34m)\u001b[0m\u001b[0;34m\u001b[0m\u001b[0;34m\u001b[0m\u001b[0m\n\u001b[0m\u001b[1;32m    834\u001b[0m                 \u001b[0;32melse\u001b[0m\u001b[0;34m:\u001b[0m\u001b[0;34m\u001b[0m\u001b[0;34m\u001b[0m\u001b[0m\n\u001b[1;32m    835\u001b[0m                     \u001b[0mself\u001b[0m\u001b[0;34m.\u001b[0m\u001b[0m_output\u001b[0m\u001b[0;34m.\u001b[0m\u001b[0mextend\u001b[0m\u001b[0;34m(\u001b[0m\u001b[0mjob\u001b[0m\u001b[0;34m.\u001b[0m\u001b[0mget\u001b[0m\u001b[0;34m(\u001b[0m\u001b[0;34m)\u001b[0m\u001b[0;34m)\u001b[0m\u001b[0;34m\u001b[0m\u001b[0;34m\u001b[0m\u001b[0m\n",
      "\u001b[0;32m/opt/anaconda3/lib/python3.7/site-packages/joblib/_parallel_backends.py\u001b[0m in \u001b[0;36mwrap_future_result\u001b[0;34m(future, timeout)\u001b[0m\n\u001b[1;32m    519\u001b[0m         AsyncResults.get from multiprocessing.\"\"\"\n\u001b[1;32m    520\u001b[0m         \u001b[0;32mtry\u001b[0m\u001b[0;34m:\u001b[0m\u001b[0;34m\u001b[0m\u001b[0;34m\u001b[0m\u001b[0m\n\u001b[0;32m--> 521\u001b[0;31m             \u001b[0;32mreturn\u001b[0m \u001b[0mfuture\u001b[0m\u001b[0;34m.\u001b[0m\u001b[0mresult\u001b[0m\u001b[0;34m(\u001b[0m\u001b[0mtimeout\u001b[0m\u001b[0;34m=\u001b[0m\u001b[0mtimeout\u001b[0m\u001b[0;34m)\u001b[0m\u001b[0;34m\u001b[0m\u001b[0;34m\u001b[0m\u001b[0m\n\u001b[0m\u001b[1;32m    522\u001b[0m         \u001b[0;32mexcept\u001b[0m \u001b[0mLokyTimeoutError\u001b[0m\u001b[0;34m:\u001b[0m\u001b[0;34m\u001b[0m\u001b[0;34m\u001b[0m\u001b[0m\n\u001b[1;32m    523\u001b[0m             \u001b[0;32mraise\u001b[0m \u001b[0mTimeoutError\u001b[0m\u001b[0;34m(\u001b[0m\u001b[0;34m)\u001b[0m\u001b[0;34m\u001b[0m\u001b[0;34m\u001b[0m\u001b[0m\n",
      "\u001b[0;32m/opt/anaconda3/lib/python3.7/concurrent/futures/_base.py\u001b[0m in \u001b[0;36mresult\u001b[0;34m(self, timeout)\u001b[0m\n\u001b[1;32m    428\u001b[0m                 \u001b[0;32mreturn\u001b[0m \u001b[0mself\u001b[0m\u001b[0;34m.\u001b[0m\u001b[0m__get_result\u001b[0m\u001b[0;34m(\u001b[0m\u001b[0;34m)\u001b[0m\u001b[0;34m\u001b[0m\u001b[0;34m\u001b[0m\u001b[0m\n\u001b[1;32m    429\u001b[0m \u001b[0;34m\u001b[0m\u001b[0m\n\u001b[0;32m--> 430\u001b[0;31m             \u001b[0mself\u001b[0m\u001b[0;34m.\u001b[0m\u001b[0m_condition\u001b[0m\u001b[0;34m.\u001b[0m\u001b[0mwait\u001b[0m\u001b[0;34m(\u001b[0m\u001b[0mtimeout\u001b[0m\u001b[0;34m)\u001b[0m\u001b[0;34m\u001b[0m\u001b[0;34m\u001b[0m\u001b[0m\n\u001b[0m\u001b[1;32m    431\u001b[0m \u001b[0;34m\u001b[0m\u001b[0m\n\u001b[1;32m    432\u001b[0m             \u001b[0;32mif\u001b[0m \u001b[0mself\u001b[0m\u001b[0;34m.\u001b[0m\u001b[0m_state\u001b[0m \u001b[0;32min\u001b[0m \u001b[0;34m[\u001b[0m\u001b[0mCANCELLED\u001b[0m\u001b[0;34m,\u001b[0m \u001b[0mCANCELLED_AND_NOTIFIED\u001b[0m\u001b[0;34m]\u001b[0m\u001b[0;34m:\u001b[0m\u001b[0;34m\u001b[0m\u001b[0;34m\u001b[0m\u001b[0m\n",
      "\u001b[0;32m/opt/anaconda3/lib/python3.7/threading.py\u001b[0m in \u001b[0;36mwait\u001b[0;34m(self, timeout)\u001b[0m\n\u001b[1;32m    294\u001b[0m         \u001b[0;32mtry\u001b[0m\u001b[0;34m:\u001b[0m    \u001b[0;31m# restore state no matter what (e.g., KeyboardInterrupt)\u001b[0m\u001b[0;34m\u001b[0m\u001b[0;34m\u001b[0m\u001b[0m\n\u001b[1;32m    295\u001b[0m             \u001b[0;32mif\u001b[0m \u001b[0mtimeout\u001b[0m \u001b[0;32mis\u001b[0m \u001b[0;32mNone\u001b[0m\u001b[0;34m:\u001b[0m\u001b[0;34m\u001b[0m\u001b[0;34m\u001b[0m\u001b[0m\n\u001b[0;32m--> 296\u001b[0;31m                 \u001b[0mwaiter\u001b[0m\u001b[0;34m.\u001b[0m\u001b[0macquire\u001b[0m\u001b[0;34m(\u001b[0m\u001b[0;34m)\u001b[0m\u001b[0;34m\u001b[0m\u001b[0;34m\u001b[0m\u001b[0m\n\u001b[0m\u001b[1;32m    297\u001b[0m                 \u001b[0mgotit\u001b[0m \u001b[0;34m=\u001b[0m \u001b[0;32mTrue\u001b[0m\u001b[0;34m\u001b[0m\u001b[0;34m\u001b[0m\u001b[0m\n\u001b[1;32m    298\u001b[0m             \u001b[0;32melse\u001b[0m\u001b[0;34m:\u001b[0m\u001b[0;34m\u001b[0m\u001b[0;34m\u001b[0m\u001b[0m\n",
      "\u001b[0;31mKeyboardInterrupt\u001b[0m: "
     ]
    }
   ],
   "source": [
    "param_grid = {'C':[0.1,1, 10, 10**2, 10**3, 10**4], \n",
    "    'max_iter':[10, 100, 1000,],\n",
    "    'penalty': ['l1', 'l2'],\n",
    "    'solver':['lbfgs','liblinear','sag','saga']\n",
    "}\n",
    "logistic_regression.get_scores(param_grid, skf)"
   ]
  },
  {
   "cell_type": "markdown",
   "metadata": {},
   "source": [
    "2nd Iteration"
   ]
  },
  {
   "cell_type": "code",
   "execution_count": null,
   "metadata": {},
   "outputs": [],
   "source": [
    "%%time\n",
    "import time\n",
    "time.sleep(3)\n",
    "\n",
    "param_grid = {'C':[0.1,1, 10, 10**2, 10**3, 10**4], \n",
    "    'max_iter':[100, 1000,5000],\n",
    "    'penalty': ['l1', 'l2'],\n",
    "    'solver':['lbfgs','liblinear','sag','saga']\n",
    "}\n",
    "logistic_regression.get_scores(param_grid, skf)"
   ]
  },
  {
   "cell_type": "code",
   "execution_count": null,
   "metadata": {},
   "outputs": [],
   "source": [
    "logistic_regression.pretty_conf_matrix()"
   ]
  },
  {
   "cell_type": "markdown",
   "metadata": {},
   "source": [
    "Refocusing the search around 'C' = 10"
   ]
  },
  {
   "cell_type": "code",
   "execution_count": null,
   "metadata": {},
   "outputs": [],
   "source": [
    "%%time\n",
    "import time\n",
    "time.sleep(3)\n",
    "\n",
    "param_grid = {'C':[5,10,15,20],\n",
    "              'solver':['lbfgs','liblinear','sag','saga']}\n",
    "logistic_regression.get_scores(param_grid, skf)"
   ]
  },
  {
   "cell_type": "markdown",
   "metadata": {},
   "source": [
    "## 4.4. Decision Tree\n",
    "### 4.4.1. Decision Tree Iteration 1"
   ]
  },
  {
   "cell_type": "code",
   "execution_count": null,
   "metadata": {},
   "outputs": [],
   "source": [
    "param_grid = {'max_depth':[15,20,25,50,100,200], 'min_samples_leaf':[10,100,150,200]}\n",
    "decision_tree = Classification(\"Decision Tree\", X_train_resampled, X_val, y_train_resampled, y_val)\n",
    "decision_tree.get_scores(param_grid, skf)"
   ]
  },
  {
   "cell_type": "code",
   "execution_count": null,
   "metadata": {},
   "outputs": [],
   "source": [
    "decision_tree.opt_plots()"
   ]
  },
  {
   "cell_type": "markdown",
   "metadata": {},
   "source": [
    "## 2nd Iteration"
   ]
  },
  {
   "cell_type": "markdown",
   "metadata": {},
   "source": [
    "SEARCHING around the parameters 50 & 10"
   ]
  },
  {
   "cell_type": "code",
   "execution_count": null,
   "metadata": {},
   "outputs": [],
   "source": [
    "param_grid = {'max_depth':range(40,60,2), 'min_samples_leaf':range(10,20,1)}\n",
    "decision_tree_2 = Classification(\"Decision Tree\", X_train_resampled, X_val, y_train_resampled, y_val)\n",
    "decision_tree_2.get_scores(param_grid, skf)"
   ]
  },
  {
   "cell_type": "code",
   "execution_count": null,
   "metadata": {},
   "outputs": [],
   "source": [
    "decision_tree_2.opt_plots()"
   ]
  },
  {
   "cell_type": "markdown",
   "metadata": {},
   "source": [
    "Optimised parameters are within the search range so will stop here."
   ]
  },
  {
   "cell_type": "code",
   "execution_count": null,
   "metadata": {},
   "outputs": [],
   "source": [
    "param_grid = {'max_depth':range(4,12,1), 'min_samples_leaf':range(80,120,1)}\n",
    "decision_tree_3 = Classification(\"Decision Tree\", X_train_resampled, X_val, y_train_resampled, y_val)\n",
    "decision_tree_3.get_scores(param_grid, skf)"
   ]
  },
  {
   "cell_type": "code",
   "execution_count": null,
   "metadata": {
    "scrolled": true
   },
   "outputs": [],
   "source": [
    "decision_tree_3.opt_plots()"
   ]
  },
  {
   "cell_type": "markdown",
   "metadata": {},
   "source": [
    "## 4.5. Random Forest\n",
    "### 4.5.1. Random Forest Iteration 1"
   ]
  },
  {
   "cell_type": "code",
   "execution_count": null,
   "metadata": {},
   "outputs": [],
   "source": [
    "param_grid = {'max_depth':[1,10,100,1000], 'min_samples_leaf':[1,10,100,1000]}\n",
    "random_forest = Classification(\"Random Forest\", X_train_resampled, X_val, y_train_resampled, y_val)\n",
    "random_forest.get_scores(param_grid, skf)"
   ]
  },
  {
   "cell_type": "code",
   "execution_count": null,
   "metadata": {},
   "outputs": [],
   "source": [
    "random_forest.best_model\n",
    "random_forest.opt_plots()"
   ]
  },
  {
   "cell_type": "markdown",
   "metadata": {},
   "source": [
    "### 4.5.2. Random Forest Iteration 2\n",
    "\n",
    "Max depth 10 & number of leaves = 10 were selected, so are sweeping around them"
   ]
  },
  {
   "cell_type": "code",
   "execution_count": null,
   "metadata": {},
   "outputs": [],
   "source": [
    "param_grid = {'max_depth':range(7, 13, 1), 'min_samples_leaf':range(7,13,1)}\n",
    "random_forest2 = Classification(\"Random Forest\", X_train_resampled, X_val, y_train_resampled, y_val)\n",
    "random_forest2.get_scores(param_grid, skf)"
   ]
  },
  {
   "cell_type": "code",
   "execution_count": null,
   "metadata": {},
   "outputs": [],
   "source": [
    "random_forest2.opt_plots()"
   ]
  },
  {
   "cell_type": "markdown",
   "metadata": {},
   "source": [
    "## Ensemble Class"
   ]
  },
  {
   "cell_type": "markdown",
   "metadata": {},
   "source": [
    "### 4.6. Ensemble Class"
   ]
  },
  {
   "cell_type": "code",
   "execution_count": null,
   "metadata": {},
   "outputs": [],
   "source": [
    "class Ensemble(Classification):\n",
    "    \n",
    "    def __init__(self, ensemble_method, estimators, X_train_resampled, X_val, y_train_resampled, y_val):\n",
    "        \n",
    "        self.ensemble_method = ensemble_method\n",
    "        self.X_train_resampled = X_train_resampled\n",
    "        self.y_train_resampled = y_train_resampled\n",
    "        self.X_val = X_val\n",
    "        self.y_val = y_val\n",
    "        \n",
    "        if self.ensemble_method == \"Voting\":\n",
    "            self.instantiate = VotingClassifier(estimators=estimators, voting='soft', n_jobs=-1)\n",
    "        elif self.ensemble_method == \"AdaBoost\":\n",
    "            self.instantiate = AdaBoostClassifier(estimators, algorithm='SAMME', n_estimators=20)\n",
    "        elif self.ensemble_method == \"XGBoost\":\n",
    "            self.instantiate = XGBClassifier(n_jobs=-1)\n",
    "        elif self.ensemble_method == \"Stacking\":\n",
    "            self.instantiate = StackingClassifier(estimators)\n",
    "            \n",
    "    def ensemble_scores(self):\n",
    "\n",
    "        train_prob = self.instantiate.predict_proba(self.X_train_resampled)[:,1]\n",
    "        val_prob = self.instantiate.predict_proba(self.X_val)[:,1]\n",
    "\n",
    "        train_auc = roc_auc_score(self.y_train_resampled, train_prob)\n",
    "        val_auc = roc_auc_score(self.y_val, val_prob)\n",
    "\n",
    "        self.train_auc = train_auc\n",
    "        self.val_auc = val_auc\n",
    "\n",
    "        self.scores_table = pd.DataFrame()\n",
    "\n",
    "        self.scores_table[\"Model\"] = [self.ensemble_method]\n",
    "        self.scores_table[\"Train AUC\"] = [self.train_auc]\n",
    "        self.scores_table[\"Validation AUC\"] = [self.val_auc]\n",
    "\n",
    "        return self.scores_table\n",
    "    \n",
    "    def ensemble_get_scores(self, param_grid, cv_type):\n",
    "        reg = self.instantiate\n",
    "        fit_reg = reg.fit(self.X_train_resampled, self.y_train_resampled)\n",
    "        opt_model = GridSearchCV(fit_reg,\n",
    "                                 param_grid,\n",
    "                                 cv=cv_type,\n",
    "                                 scoring='roc_auc',\n",
    "                                 return_train_score=True,\n",
    "                                 n_jobs=-1)\n",
    "        self.opt_model = opt_model.fit(self.X_train_resampled, self.y_train_resampled) \n",
    "        self.best_model = opt_model.best_estimator_\n",
    "        self.scores = Ensemble.ensemble_scores(self)\n",
    "        self.best_params = opt_model.best_params_\n",
    "        display(self.scores_table)\n",
    "        self.roc_plot = Classification.roc_plot(self.best_model,\n",
    "                                                self.X_train_resampled,\n",
    "                                                self.X_val,\n",
    "                                                self.y_train_resampled,\n",
    "                                                self.y_val)\n",
    "        self.y_predicted = opt_model.predict(self.X_val)\n",
    "        \n",
    "    def conf_matrix(y_true, y_pred):\n",
    "        \n",
    "        cm = {'TP': 0, 'TN': 0, 'FP': 0, 'FN': 0}\n",
    "        \n",
    "        for i, label in enumerate(y_true):\n",
    "            \n",
    "            pred = y_pred[i]\n",
    "            if label == 1:\n",
    "                if label == pred:\n",
    "                    cm['TP'] += 1\n",
    "                else:\n",
    "                    cm['FN'] += 1\n",
    "            else:\n",
    "                if label == pred:\n",
    "                    cm['TN'] += 1\n",
    "                else:\n",
    "                    cm['FP'] += 1\n",
    "                \n",
    "        return cm\n",
    "    \n",
    "    def ensemble_pretty_conf_matrix(self):\n",
    "        \n",
    "        Ensemble.conf_matrix(self.y_val, self.y_predicted)\n",
    "        cnf_matrix = confusion_matrix(self.y_val, self.y_predicted)\n",
    "        \n",
    "        plt.figure(figsize=(6,6))\n",
    "        plt.imshow(cnf_matrix, cmap=plt.cm.Blues)\n",
    "        \n",
    "        plt.title('Confusion Matrix')\n",
    "        plt.ylabel('True label')\n",
    "        plt.xlabel('Predicted label')\n",
    "        \n",
    "        class_names = set(y)\n",
    "        tick_marks = np.arange(1,2,1)\n",
    "        plt.xticks(tick_marks, [1,0], rotation=45)\n",
    "        plt.yticks(tick_marks, [1,0])\n",
    "\n",
    "        thresh = cnf_matrix.max() / 2.\n",
    "        for i, j in itertools.product(range(cnf_matrix.shape[0]), range(cnf_matrix.shape[1])):\n",
    "                plt.text(j, i, cnf_matrix[i, j],\n",
    "                         horizontalalignment='center')\n",
    "        plt.colorbar"
   ]
  },
  {
   "cell_type": "markdown",
   "metadata": {},
   "source": [
    "## 4.7. Voting Classifier¶"
   ]
  },
  {
   "cell_type": "code",
   "execution_count": null,
   "metadata": {},
   "outputs": [],
   "source": [
    "log_reg = ('lr', logistic_regression.best_model)\n",
    "dtree = ('dt', decision_tree.best_model)\n",
    "rand_forest = ('rnd', random_forest.best_model)\n",
    "estimators = [log_reg, dtree, rand_forest]"
   ]
  },
  {
   "cell_type": "code",
   "execution_count": null,
   "metadata": {},
   "outputs": [],
   "source": [
    "voting = Ensemble(\"Voting\", estimators, X_train_resampled, X_val, y_train_resampled, y_val)"
   ]
  },
  {
   "cell_type": "code",
   "execution_count": null,
   "metadata": {},
   "outputs": [],
   "source": [
    "voting.ensemble_get_scores({}, skf)"
   ]
  },
  {
   "cell_type": "code",
   "execution_count": null,
   "metadata": {},
   "outputs": [],
   "source": [
    "voting.ensemble_pretty_conf_matrix()"
   ]
  },
  {
   "cell_type": "markdown",
   "metadata": {},
   "source": [
    "## 4.8. AdaBoost\n",
    "### 4.8.1. AdaBoost - Logistic Regression"
   ]
  },
  {
   "cell_type": "code",
   "execution_count": null,
   "metadata": {},
   "outputs": [],
   "source": [
    "estimators = logistic_regression.best_model\n",
    "adaboost1 = Ensemble(\"AdaBoost\", estimators, X_train_resampled, X_val, y_train_resampled, y_val)"
   ]
  },
  {
   "cell_type": "code",
   "execution_count": null,
   "metadata": {},
   "outputs": [],
   "source": [
    "adaboost1.ensemble_get_scores({}, skf)"
   ]
  },
  {
   "cell_type": "code",
   "execution_count": null,
   "metadata": {},
   "outputs": [],
   "source": [
    "adaboost1.ensemble_pretty_conf_matrix()"
   ]
  },
  {
   "cell_type": "code",
   "execution_count": null,
   "metadata": {},
   "outputs": [],
   "source": [
    "estimators = decision_tree.best_model\n",
    "adaboost2 = Ensemble(\"AdaBoost\", estimators, X_train_resampled, X_val, y_train_resampled, y_val)"
   ]
  },
  {
   "cell_type": "code",
   "execution_count": null,
   "metadata": {},
   "outputs": [],
   "source": [
    "adaboost1.ensemble_get_scores({}, skf)"
   ]
  },
  {
   "cell_type": "markdown",
   "metadata": {},
   "source": [
    "### 4.8.3. AdaBoost - Random Forest"
   ]
  },
  {
   "cell_type": "code",
   "execution_count": null,
   "metadata": {},
   "outputs": [],
   "source": [
    "estimators = random_forest.best_model\n",
    "adaboost3 = Ensemble(\"AdaBoost\", estimators, X_train_resampled, X_val, y_train_resampled, y_val)"
   ]
  },
  {
   "cell_type": "code",
   "execution_count": null,
   "metadata": {},
   "outputs": [],
   "source": [
    "adaboost3.ensemble_get_scores({}, skf)"
   ]
  },
  {
   "cell_type": "markdown",
   "metadata": {},
   "source": [
    "### 4.8.4. AdaBoost - Voting Classifier"
   ]
  },
  {
   "cell_type": "code",
   "execution_count": null,
   "metadata": {},
   "outputs": [],
   "source": [
    "estimators = voting.best_model\n",
    "adaboost4 = Ensemble(\"AdaBoost\", estimators, X_train_resampled, X_val, y_train_resampled, y_val)"
   ]
  },
  {
   "cell_type": "code",
   "execution_count": null,
   "metadata": {},
   "outputs": [],
   "source": [
    "adaboost4.ensemble_get_scores({}, skf)"
   ]
  },
  {
   "cell_type": "code",
   "execution_count": null,
   "metadata": {},
   "outputs": [],
   "source": [
    "adaboost4.ensemble_pretty_conf_matrix()"
   ]
  },
  {
   "cell_type": "markdown",
   "metadata": {},
   "source": [
    "### 4.9 Stacking"
   ]
  },
  {
   "cell_type": "code",
   "execution_count": null,
   "metadata": {},
   "outputs": [],
   "source": [
    "estimators = [('lr',logistic_regression.best_model), \n",
    "              ('dt', decision_tree.best_model), \n",
    "              ('rnd', random_forest.best_model)]\n",
    "stacking = Ensemble(\"Stacking\", estimators, X_train_resampled, X_val, y_train_resampled, y_val)"
   ]
  },
  {
   "cell_type": "code",
   "execution_count": null,
   "metadata": {},
   "outputs": [],
   "source": [
    "stacking.ensemble_get_scores({}, skf)"
   ]
  },
  {
   "cell_type": "code",
   "execution_count": null,
   "metadata": {},
   "outputs": [],
   "source": [
    "y_score = ensemble.fit"
   ]
  },
  {
   "cell_type": "code",
   "execution_count": null,
   "metadata": {},
   "outputs": [],
   "source": [
    "stacking.ensemble_pretty_conf_matrix()"
   ]
  },
  {
   "cell_type": "markdown",
   "metadata": {},
   "source": [
    "## 5. Model Evaluation\n",
    "### 5.1 Feature Importance"
   ]
  },
  {
   "cell_type": "code",
   "execution_count": null,
   "metadata": {},
   "outputs": [],
   "source": [
    "final_model = random_forest.best_model"
   ]
  },
  {
   "cell_type": "code",
   "execution_count": null,
   "metadata": {},
   "outputs": [],
   "source": [
    "feature_importance = pd.DataFrame(final_model.feature_importances_)\n",
    "feature_importance.rename(columns={0:'Importance'}, inplace=True)\n",
    "feature_importance['Feature'] = X_scaled.columns\n",
    "feature_importance.sort_values(by='Importance', ascending=False, inplace=True)\n",
    "feature_importance.head(20)\n",
    "top_20_features = feature_importance.head(20)\n",
    "plt.figure(figsize=(16,10))\n",
    "sns.barplot(x='Feature', y='Importance', data=top_20_features, palette=\"Blues_d\")\n",
    "plt.xticks(rotation=90)\n",
    "plt.xlabel(\"\")\n",
    "plt.ylabel('Importance', fontsize=14)\n",
    "plt.show()"
   ]
  },
  {
   "cell_type": "code",
   "execution_count": null,
   "metadata": {},
   "outputs": [],
   "source": [
    "feature_importance.rename(columns={0:'Importance'}, inplace=True)"
   ]
  },
  {
   "cell_type": "code",
   "execution_count": null,
   "metadata": {},
   "outputs": [],
   "source": [
    "feature_importance['Feature'] = X_scaled.columns"
   ]
  },
  {
   "cell_type": "code",
   "execution_count": null,
   "metadata": {},
   "outputs": [],
   "source": [
    "feature_importance.sort_values(by='Importance', ascending=False, inplace=True)"
   ]
  },
  {
   "cell_type": "code",
   "execution_count": null,
   "metadata": {},
   "outputs": [],
   "source": [
    "feature_importance.head(20)"
   ]
  },
  {
   "cell_type": "code",
   "execution_count": null,
   "metadata": {},
   "outputs": [],
   "source": [
    "top_20_features = feature_importance.head(20)"
   ]
  },
  {
   "cell_type": "code",
   "execution_count": null,
   "metadata": {},
   "outputs": [],
   "source": [
    "plt.figure(figsize=(16,10))\n",
    "sns.barplot(x='Feature', y='Importance', data=top_20_features, palette=\"Blues_d\")\n",
    "plt.xticks(rotation=90)\n",
    "plt.xlabel(\"\")\n",
    "plt.ylabel('Importance', fontsize=14)\n",
    "plt.show()"
   ]
  },
  {
   "cell_type": "code",
   "execution_count": null,
   "metadata": {
    "scrolled": true
   },
   "outputs": [],
   "source": [
    "y_prob = cross_val_predict(random_forest, X_train, y_train,method='predict_proba', cv=skf)[:,1]"
   ]
  },
  {
   "cell_type": "code",
   "execution_count": null,
   "metadata": {},
   "outputs": [],
   "source": [
    "fpr,tpr,threshold = roc_curve(y_train, y_prob)"
   ]
  },
  {
   "cell_type": "code",
   "execution_count": null,
   "metadata": {},
   "outputs": [],
   "source": [
    "def plot_roc_curve(fpr, tpr, label=None):\n",
    "    fig = plt.figure(figsize=(12,8))\n",
    "    plt.plot(fpr,tpr,linewidth= 2, label=label)\n",
    "    plt.plot([0,1], [0,1],'k--')\n",
    "    plt.xlabel('False Positive Rate')\n",
    "    plt.ylabel('True Positive Rate (Recall)')\n",
    "    plt.title('Roc Curve for Random Forrest Classifier')\n",
    "    plt.legend(loc=4)\n",
    "\n",
    "plot_roc_curve(fpr, tpr, label='Optimum Model')\n",
    "plt.show()"
   ]
  },
  {
   "cell_type": "markdown",
   "metadata": {},
   "source": [
    "### Straight from the Lab if needed"
   ]
  },
  {
   "cell_type": "code",
   "execution_count": null,
   "metadata": {},
   "outputs": [],
   "source": [
    "### SMOTE from the labs\n",
    "\n",
    "%time\n",
    "import time\n",
    "time.sleep(3)\n",
    "\n",
    "# Now let's compare a few different ratios of minority class to majority class\n",
    "ratios = [0.05,0.1,0.25, 0.33, 0.5, 0.7, 1]\n",
    "names = ['0.05','0.1','0.25', '0.33','0.5','0.7','even']\n",
    "colors = sns.color_palette('Set2')\n",
    "\n",
    "plt.figure(figsize=(10, 8))\n",
    "\n",
    "for n, ratio in enumerate(ratios):\n",
    "    # Fit a model\n",
    "    smote = SMOTE(sampling_strategy=ratio)\n",
    "    X_train_resampled, y_train_resampled = smote.fit_sample(X_train, y_train) \n",
    "    logreg = LogisticRegression(fit_intercept=False, C=1e20, solver ='liblinear')\n",
    "    model_log = logreg.fit(X_train_resampled, y_train_resampled)\n",
    "    print(model_log)\n",
    "\n",
    "    # Predict\n",
    "    y_hat_test = logreg.predict(X_test)\n",
    "    y_score = logreg.decision_function(X_test)\n",
    "\n",
    "    fpr, tpr, thresholds = roc_curve(y_test, y_score)\n",
    "    \n",
    "    print('AUC for {}: {}'.format(names[n], auc(fpr, tpr)))\n",
    "    print('-------------------------------------------------------------------------------------')\n",
    "    lw = 2\n",
    "    plt.plot(fpr, tpr, color=colors[n],\n",
    "             lw=lw, label='ROC curve {}'.format(names[n]))\n",
    "\n",
    "plt.plot([0, 1], [0, 1], color='navy', lw=lw, linestyle='--')\n",
    "plt.xlim([0.0, 1.0])\n",
    "plt.ylim([0.0, 1.05])\n",
    "\n",
    "plt.yticks([i/20.0 for i in range(21)])\n",
    "plt.xticks([i/20.0 for i in range(21)])\n",
    "plt.xlabel('False Positive Rate')\n",
    "plt.ylabel('True Positive Rate')\n",
    "plt.title('Receiver operating characteristic (ROC) Curve')\n",
    "plt.legend(loc='lower right')\n",
    "\n",
    "plt.show()"
   ]
  },
  {
   "cell_type": "code",
   "execution_count": null,
   "metadata": {},
   "outputs": [],
   "source": []
  },
  {
   "cell_type": "code",
   "execution_count": null,
   "metadata": {},
   "outputs": [],
   "source": []
  }
 ],
 "metadata": {
  "kernelspec": {
   "display_name": "Python 3",
   "language": "python",
   "name": "python3"
  },
  "language_info": {
   "codemirror_mode": {
    "name": "ipython",
    "version": 3
   },
   "file_extension": ".py",
   "mimetype": "text/x-python",
   "name": "python",
   "nbconvert_exporter": "python",
   "pygments_lexer": "ipython3",
   "version": "3.7.4"
  }
 },
 "nbformat": 4,
 "nbformat_minor": 2
}
