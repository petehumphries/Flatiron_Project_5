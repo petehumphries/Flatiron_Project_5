{
 "cells": [
  {
   "cell_type": "markdown",
   "metadata": {},
   "source": [
    "## Project Part 2\n",
    "\n",
    "clockwork_orange.py has the functions in"
   ]
  },
  {
   "cell_type": "code",
   "execution_count": 169,
   "metadata": {},
   "outputs": [],
   "source": [
    "import pandas as pd\n",
    "import numpy as np\n",
    "import itertools\n",
    "from sklearn.model_selection import train_test_split\n",
    "from sklearn.linear_model import LogisticRegression\n",
    "from sklearn.metrics import roc_curve, auc\n",
    "from sklearn.metrics import confusion_matrix\n",
    "from imblearn.over_sampling import SMOTE, ADASYN\n",
    "import matplotlib.pyplot as plt\n",
    "import seaborn as sns\n",
    "%matplotlib inline"
   ]
  },
  {
   "cell_type": "code",
   "execution_count": 170,
   "metadata": {},
   "outputs": [],
   "source": [
    "df = pd.read_csv('wisconsin.csv')\n",
    "df.head(2)\n",
    "df.drop(df.columns[0], axis=1, inplace=True)"
   ]
  },
  {
   "cell_type": "code",
   "execution_count": 3,
   "metadata": {},
   "outputs": [
    {
     "data": {
      "text/html": [
       "<div>\n",
       "<style scoped>\n",
       "    .dataframe tbody tr th:only-of-type {\n",
       "        vertical-align: middle;\n",
       "    }\n",
       "\n",
       "    .dataframe tbody tr th {\n",
       "        vertical-align: top;\n",
       "    }\n",
       "\n",
       "    .dataframe thead th {\n",
       "        text-align: right;\n",
       "    }\n",
       "</style>\n",
       "<table border=\"1\" class=\"dataframe\">\n",
       "  <thead>\n",
       "    <tr style=\"text-align: right;\">\n",
       "      <th></th>\n",
       "      <th>YEAR</th>\n",
       "      <th>MONTH</th>\n",
       "      <th>DAY</th>\n",
       "      <th>DAY_OF_WEEK</th>\n",
       "      <th>AIRLINE</th>\n",
       "      <th>FLIGHT_NUMBER</th>\n",
       "      <th>TAIL_NUMBER</th>\n",
       "      <th>ORIGIN_AIRPORT</th>\n",
       "      <th>DESTINATION_AIRPORT</th>\n",
       "      <th>SCHEDULED_DEPARTURE</th>\n",
       "      <th>...</th>\n",
       "      <th>WEATHER_DELAY</th>\n",
       "      <th>airline_full_name</th>\n",
       "      <th>ORIGIN_CITY</th>\n",
       "      <th>ORIGIN_STATE</th>\n",
       "      <th>ORIGIN_LATITUDE</th>\n",
       "      <th>ORIGIN_LONGITUDE</th>\n",
       "      <th>DESTINATION_CITY</th>\n",
       "      <th>DESTINATION_STATE</th>\n",
       "      <th>DESTINATION_LATITUDE</th>\n",
       "      <th>DESTINATION_LONGITUDE</th>\n",
       "    </tr>\n",
       "  </thead>\n",
       "  <tbody>\n",
       "    <tr>\n",
       "      <td>0</td>\n",
       "      <td>2015</td>\n",
       "      <td>7</td>\n",
       "      <td>1</td>\n",
       "      <td>3</td>\n",
       "      <td>OO</td>\n",
       "      <td>3423</td>\n",
       "      <td>N170SY</td>\n",
       "      <td>MKE</td>\n",
       "      <td>SEA</td>\n",
       "      <td>1605</td>\n",
       "      <td>...</td>\n",
       "      <td>NaN</td>\n",
       "      <td>Skywest Airlines Inc.</td>\n",
       "      <td>Milwaukee</td>\n",
       "      <td>WI</td>\n",
       "      <td>42.94722</td>\n",
       "      <td>-87.89658</td>\n",
       "      <td>Seattle</td>\n",
       "      <td>WA</td>\n",
       "      <td>47.44898</td>\n",
       "      <td>-122.30931</td>\n",
       "    </tr>\n",
       "  </tbody>\n",
       "</table>\n",
       "<p>1 rows × 40 columns</p>\n",
       "</div>"
      ],
      "text/plain": [
       "   YEAR  MONTH  DAY  DAY_OF_WEEK AIRLINE  FLIGHT_NUMBER TAIL_NUMBER  \\\n",
       "0  2015      7    1            3      OO           3423      N170SY   \n",
       "\n",
       "  ORIGIN_AIRPORT DESTINATION_AIRPORT  SCHEDULED_DEPARTURE  ...  WEATHER_DELAY  \\\n",
       "0            MKE                 SEA                 1605  ...            NaN   \n",
       "\n",
       "       airline_full_name  ORIGIN_CITY  ORIGIN_STATE  ORIGIN_LATITUDE  \\\n",
       "0  Skywest Airlines Inc.    Milwaukee            WI         42.94722   \n",
       "\n",
       "   ORIGIN_LONGITUDE  DESTINATION_CITY  DESTINATION_STATE  \\\n",
       "0         -87.89658           Seattle                 WA   \n",
       "\n",
       "   DESTINATION_LATITUDE  DESTINATION_LONGITUDE  \n",
       "0              47.44898             -122.30931  \n",
       "\n",
       "[1 rows x 40 columns]"
      ]
     },
     "execution_count": 3,
     "metadata": {},
     "output_type": "execute_result"
    }
   ],
   "source": [
    "df.head(1)"
   ]
  },
  {
   "cell_type": "code",
   "execution_count": 4,
   "metadata": {},
   "outputs": [],
   "source": [
    "## Define & Create Target Variable\n",
    "df['DELAYED_TARGET'] = np.where(df['DEPARTURE_DELAY'] > 10, 1, 0)"
   ]
  },
  {
   "cell_type": "code",
   "execution_count": 5,
   "metadata": {},
   "outputs": [],
   "source": [
    "# all years are 2015\n",
    "del df['YEAR']"
   ]
  },
  {
   "cell_type": "code",
   "execution_count": 6,
   "metadata": {},
   "outputs": [
    {
     "data": {
      "text/plain": [
       "Index(['MONTH', 'DAY', 'DAY_OF_WEEK', 'AIRLINE', 'FLIGHT_NUMBER',\n",
       "       'TAIL_NUMBER', 'ORIGIN_AIRPORT', 'DESTINATION_AIRPORT',\n",
       "       'SCHEDULED_DEPARTURE', 'DEPARTURE_TIME', 'DEPARTURE_DELAY', 'TAXI_OUT',\n",
       "       'WHEELS_OFF', 'SCHEDULED_TIME', 'ELAPSED_TIME', 'AIR_TIME', 'DISTANCE',\n",
       "       'WHEELS_ON', 'TAXI_IN', 'SCHEDULED_ARRIVAL', 'ARRIVAL_TIME',\n",
       "       'ARRIVAL_DELAY', 'DIVERTED', 'CANCELLED', 'CANCELLATION_REASON',\n",
       "       'AIR_SYSTEM_DELAY', 'SECURITY_DELAY', 'AIRLINE_DELAY',\n",
       "       'LATE_AIRCRAFT_DELAY', 'WEATHER_DELAY', 'airline_full_name',\n",
       "       'ORIGIN_CITY', 'ORIGIN_STATE', 'ORIGIN_LATITUDE', 'ORIGIN_LONGITUDE',\n",
       "       'DESTINATION_CITY', 'DESTINATION_STATE', 'DESTINATION_LATITUDE',\n",
       "       'DESTINATION_LONGITUDE', 'DELAYED_TARGET'],\n",
       "      dtype='object')"
      ]
     },
     "execution_count": 6,
     "metadata": {},
     "output_type": "execute_result"
    }
   ],
   "source": [
    "df.columns"
   ]
  },
  {
   "cell_type": "code",
   "execution_count": 7,
   "metadata": {},
   "outputs": [],
   "source": [
    "df['CANCELLATION_REASON'] = df['CANCELLATION_REASON'].replace('nan', np.nan).fillna(0)\n",
    "df['AIR_SYSTEM_DELAY'] = df['AIR_SYSTEM_DELAY'].replace('nan', np.nan).fillna(0)\n",
    "df['SECURITY_DELAY'] = df['SECURITY_DELAY'].replace('nan', np.nan).fillna(0)\n",
    "df['AIRLINE_DELAY'] = df['AIRLINE_DELAY'].replace('nan', np.nan).fillna(0)\n",
    "df['LATE_AIRCRAFT_DELAY'] = df['LATE_AIRCRAFT_DELAY'].replace('nan', np.nan).fillna(0)\n",
    "df['WEATHER_DELAY'] = df['WEATHER_DELAY'].replace('nan', np.nan).fillna(0)\n",
    "df['DEPARTURE_TIME'] = df['DEPARTURE_TIME'].replace('nan', np.nan).fillna(0)\n",
    "df['DEPARTURE_DELAY'] = df['DEPARTURE_DELAY'].replace('nan', np.nan).fillna(0)\n",
    "df['TAXI_OUT'] = df['TAXI_OUT'].replace('nan', np.nan).fillna(0)\n",
    "df['WHEELS_OFF'] = df['WHEELS_OFF'].replace('nan', np.nan).fillna(0)\n",
    "df['ELAPSED_TIME'] = df['ELAPSED_TIME'].replace('nan', np.nan).fillna(0)\n",
    "df['AIR_TIME'] = df['AIR_TIME'].replace('nan', np.nan).fillna(0)\n",
    "df['WHEELS_ON'] = df['WHEELS_ON'].replace('nan', np.nan).fillna(0)\n",
    "df['TAXI_IN'] = df['TAXI_IN'].replace('nan', np.nan).fillna(0)\n",
    "df['ARRIVAL_TIME'] = df['ARRIVAL_TIME'].replace('nan', np.nan).fillna(0)\n",
    "df['ARRIVAL_DELAY'] = df['ARRIVAL_DELAY'].replace('nan', np.nan).fillna(0)"
   ]
  },
  {
   "cell_type": "code",
   "execution_count": 8,
   "metadata": {},
   "outputs": [
    {
     "data": {
      "image/png": "[encoded data removed]",
      "text/plain": [
       "<Figure size 432x288 with 2 Axes>"
      ]
     },
     "metadata": {
      "needs_background": "light"
     },
     "output_type": "display_data"
    }
   ],
   "source": [
    "features = ['MONTH',                    \n",
    "            'DAY',                      \n",
    "            'DAY_OF_WEEK',                 \n",
    "            'SCHEDULED_DEPARTURE',            \n",
    "            'DISTANCE',\n",
    "            'DELAYED_TARGET',\n",
    "            'ARRIVAL_DELAY',\n",
    "            'WEATHER_DELAY',\n",
    "            'SECURITY_DELAY',\n",
    "            'AIRLINE_DELAY',\n",
    "            'LATE_AIRCRAFT_DELAY',\n",
    "            'AIR_SYSTEM_DELAY']\n",
    "            \n",
    "target = df['DELAYED_TARGET']\n",
    "df = df[features].copy()\n",
    "sns.heatmap(df.corr(), center=0, annot=True);"
   ]
  },
  {
   "cell_type": "code",
   "execution_count": 46,
   "metadata": {},
   "outputs": [
    {
     "data": {
      "text/plain": [
       "(51376, 12)"
      ]
     },
     "execution_count": 46,
     "metadata": {},
     "output_type": "execute_result"
    }
   ],
   "source": [
    "df.shape"
   ]
  },
  {
   "cell_type": "code",
   "execution_count": 51,
   "metadata": {},
   "outputs": [
    {
     "data": {
      "text/plain": [
       "10275.2"
      ]
     },
     "execution_count": 51,
     "metadata": {},
     "output_type": "execute_result"
    }
   ],
   "source": [
    "51376/5"
   ]
  },
  {
   "cell_type": "markdown",
   "metadata": {},
   "source": [
    "### Log Reg"
   ]
  },
  {
   "cell_type": "code",
   "execution_count": 10,
   "metadata": {},
   "outputs": [],
   "source": [
    "# scaler\n",
    "from sklearn.preprocessing import StandardScaler\n",
    "\n",
    "# cross validation\n",
    "from sklearn.model_selection import train_test_split, cross_val_score, \\\n",
    "    cross_validate, cross_val_predict, KFold, GridSearchCV"
   ]
  },
  {
   "cell_type": "code",
   "execution_count": null,
   "metadata": {},
   "outputs": [],
   "source": [
    "# set random seed, to be used for the whole project for reproducability\n",
    "random_seed = 54321\n",
    "np.random.seed(random_seed)\n",
    "\n",
    "# set cross-validation, to be kept fixed\n",
    "cv = KFold(n_splits = 5, shuffle = True, random_state = random_seed)\n",
    "\n",
    "X = df.drop('DELAYED_TARGET', axis = 1) #Features\n",
    "y = df['DELAYED_TARGET'] #Target variable"
   ]
  },
  {
   "cell_type": "code",
   "execution_count": 52,
   "metadata": {},
   "outputs": [],
   "source": [
    "# splitting first for train - test\n",
    "X_train_logreg, X_test_logreg, y_train_logreg, y_test_logreg = \\\n",
    "    train_test_split(\n",
    "        X, y, test_size=10275, random_state = random_seed\n",
    "    )\n",
    "\n",
    "# then, splitting for train - validation\n",
    "X_train_logreg, X_valid_logreg, y_train_logreg, y_valid_logreg = \\\n",
    "    train_test_split(\n",
    "        X_train_logreg, y_train_logreg, test_size = 10275, random_state = random_seed\n",
    "    )\n",
    "\n",
    "# finally, scaling\n",
    "scaler_logreg = StandardScaler()\n",
    "X_train_logreg = scaler_logreg.fit_transform(X_train_logreg)\n",
    "\n",
    "X_valid_logreg = scaler_logreg.transform(X_valid_logreg)\n",
    "X_test_logreg = scaler_logreg.transform(X_test_logreg)"
   ]
  },
  {
   "cell_type": "code",
   "execution_count": 55,
   "metadata": {},
   "outputs": [
    {
     "data": {
      "text/plain": [
       "2.5038978756577666"
      ]
     },
     "execution_count": 55,
     "metadata": {},
     "output_type": "execute_result"
    }
   ],
   "source": [
    "# not sure about the cost ratio\n",
    "prevalence = sum(y_train_logreg) / len(y_train_logreg)\n",
    "cost_ratio = 0.5/1\n",
    "m = (1 - prevalence) / prevalence * cost_ratio\n",
    "m"
   ]
  },
  {
   "cell_type": "code",
   "execution_count": 56,
   "metadata": {},
   "outputs": [],
   "source": [
    "logreg = LogisticRegression(solver='liblinear')"
   ]
  },
  {
   "cell_type": "code",
   "execution_count": 57,
   "metadata": {},
   "outputs": [
    {
     "name": "stdout",
     "output_type": "stream",
     "text": [
      "Mean Cross Validation Score: 92.52%\n"
     ]
    }
   ],
   "source": [
    "from sklearn.tree import DecisionTreeClassifier\n",
    "\n",
    "dt_clf = DecisionTreeClassifier()\n",
    "dt_cv_score = cross_val_score(dt_clf, X_train_logreg, y_train_logreg, cv=3)\n",
    "mean_dt_cv_score = np.mean(dt_cv_score)\n",
    "\n",
    "print(f\"Mean Cross Validation Score: {mean_dt_cv_score :.2%}\")"
   ]
  },
  {
   "cell_type": "markdown",
   "metadata": {},
   "source": [
    "### GSCV Iteration #1: Change parameters based on results"
   ]
  },
  {
   "cell_type": "markdown",
   "metadata": {},
   "source": [
    "https://chrisalbon.com/machine_learning/model_selection/hyperparameter_tuning_using_grid_search/"
   ]
  },
  {
   "cell_type": "code",
   "execution_count": 18,
   "metadata": {},
   "outputs": [
    {
     "name": "stderr",
     "output_type": "stream",
     "text": [
      "C:\\Users\\User1\\Anaconda3\\lib\\site-packages\\sklearn\\svm\\_base.py:947: ConvergenceWarning: Liblinear failed to converge, increase the number of iterations.\n",
      "  \"the number of iterations.\", ConvergenceWarning)\n"
     ]
    },
    {
     "data": {
      "text/plain": [
       "GridSearchCV(cv=KFold(n_splits=5, random_state=54321, shuffle=True),\n",
       "             error_score=nan,\n",
       "             estimator=LogisticRegression(C=1.0, class_weight=None, dual=False,\n",
       "                                          fit_intercept=True,\n",
       "                                          intercept_scaling=1, l1_ratio=None,\n",
       "                                          max_iter=100, multi_class='auto',\n",
       "                                          n_jobs=None, penalty='l2',\n",
       "                                          random_state=None, solver='liblinear',\n",
       "                                          tol=0.0001, verbose=0,\n",
       "                                          warm_start=False),\n",
       "             iid='deprecated', n_jobs=None,\n",
       "             param_grid={'C': [1, 10, 100], 'max_iter': [1000, 2000],\n",
       "                         'penalty': ['l1', 'l2']},\n",
       "             pre_dispatch='2*n_jobs', refit=True, return_train_score=False,\n",
       "             scoring='roc_auc', verbose=0)"
      ]
     },
     "execution_count": 18,
     "metadata": {},
     "output_type": "execute_result"
    }
   ],
   "source": [
    "# using order of magnitude search parameters\n",
    "# convergence warning for [100,1000]\n",
    "# penalty = 11: Lasso, 12: Ridge\n",
    "param_grid = {\n",
    "    'C':[1, 10, 10**2], \n",
    "    'max_iter':[1000, 2000],\n",
    "    'penalty': ['l1', 'l2']\n",
    "}\n",
    "\n",
    "gs_log = GridSearchCV(logreg, param_grid, scoring = 'roc_auc', cv = cv)\n",
    "\n",
    "gs_log.fit(X_train_logreg, y_train_logreg)"
   ]
  },
  {
   "cell_type": "markdown",
   "metadata": {},
   "source": [
    "https://stackoverflow.com/questions/52670012/convergencewarning-liblinear-failed-to-converge-increase-the-number-of-iterati"
   ]
  },
  {
   "cell_type": "code",
   "execution_count": 58,
   "metadata": {},
   "outputs": [
    {
     "data": {
      "text/plain": [
       "0.9671003503627992"
      ]
     },
     "execution_count": 58,
     "metadata": {},
     "output_type": "execute_result"
    }
   ],
   "source": [
    "gs_log.best_score_"
   ]
  },
  {
   "cell_type": "code",
   "execution_count": 59,
   "metadata": {},
   "outputs": [
    {
     "data": {
      "text/plain": [
       "LogisticRegression(C=1, class_weight=None, dual=False, fit_intercept=True,\n",
       "                   intercept_scaling=1, l1_ratio=None, max_iter=1000,\n",
       "                   multi_class='auto', n_jobs=None, penalty='l2',\n",
       "                   random_state=None, solver='liblinear', tol=0.0001, verbose=0,\n",
       "                   warm_start=False)"
      ]
     },
     "execution_count": 59,
     "metadata": {},
     "output_type": "execute_result"
    }
   ],
   "source": [
    "gs_log.best_estimator_"
   ]
  },
  {
   "cell_type": "code",
   "execution_count": 81,
   "metadata": {},
   "outputs": [
    {
     "name": "stdout",
     "output_type": "stream",
     "text": [
      "Best estimator of C is : 1\n",
      "Best estimator of max_iterations is : 1000\n",
      "Best estimator of max_iterations is : l2\n"
     ]
    }
   ],
   "source": [
    "print(\"Best estimator of C is : \" + str(gs_log.best_estimator_.C))\n",
    "print(\"Best estimator of max_iterations is : \" + str(gs_log.best_estimator_.max_iter))\n",
    "print(\"Best estimator of penalty is : \" + str(gs_log.best_estimator_.penalty))"
   ]
  },
  {
   "cell_type": "code",
   "execution_count": 167,
   "metadata": {},
   "outputs": [],
   "source": [
    "def best_estimator_notebook(model):\n",
    "    '''Returns the best estimator of/ C/ penalty\n",
    "    '''\n",
    "       \n",
    "    C_best = model.best_estimator_.C\n",
    "    max_iter_best = model.best_estimator_.max_iter\n",
    "    penalty_best = model.best_estimator_.penalty\n",
    "        \n",
    "    print(\"Best estimator of C is : \" + str(C_best))\n",
    "    print(\"Best estimator of max_iterations is : \" + str(max_iter_best))\n",
    "    print(\"Best estimator of penalty is : \" + str(penalty_best))\n",
    "\n",
    "    return C_best , max_iter_best, penalty_best\n"
   ]
  },
  {
   "cell_type": "code",
   "execution_count": 168,
   "metadata": {},
   "outputs": [
    {
     "name": "stdout",
     "output_type": "stream",
     "text": [
      "Best estimator of C is : 1\n",
      "Best estimator of max_iterations is : 1000\n",
      "Best estimator of penalty is : l2\n"
     ]
    },
    {
     "data": {
      "text/plain": [
       "(1, 1000, 'l2')"
      ]
     },
     "execution_count": 168,
     "metadata": {},
     "output_type": "execute_result"
    }
   ],
   "source": [
    "from clockwork_orange import best_estimator\n",
    "best_estimator(gs_log)"
   ]
  },
  {
   "cell_type": "code",
   "execution_count": 159,
   "metadata": {},
   "outputs": [
    {
     "name": "stdout",
     "output_type": "stream",
     "text": [
      "Best estimator of C is : 0.1\n",
      "Best estimator of max_iterations is : 500\n",
      "Best estimator of penalty is : l2\n"
     ]
    },
    {
     "data": {
      "text/plain": [
       "(0.1, 500, 'l2')"
      ]
     },
     "execution_count": 159,
     "metadata": {},
     "output_type": "execute_result"
    }
   ],
   "source": [
    "best_estimator(gs_log_2)"
   ]
  },
  {
   "cell_type": "code",
   "execution_count": 160,
   "metadata": {},
   "outputs": [
    {
     "name": "stdout",
     "output_type": "stream",
     "text": [
      "Best estimator of C is : 0.1\n",
      "Best estimator of max_iterations is : 100\n",
      "Best estimator of penalty is : l2\n"
     ]
    },
    {
     "data": {
      "text/plain": [
       "(0.1, 100, 'l2')"
      ]
     },
     "execution_count": 160,
     "metadata": {},
     "output_type": "execute_result"
    }
   ],
   "source": [
    "best_estimator(gs_log_3)"
   ]
  },
  {
   "cell_type": "markdown",
   "metadata": {},
   "source": [
    "### GSCV Iteration #2"
   ]
  },
  {
   "cell_type": "code",
   "execution_count": 60,
   "metadata": {},
   "outputs": [
    {
     "data": {
      "text/plain": [
       "GridSearchCV(cv=KFold(n_splits=5, random_state=54321, shuffle=True),\n",
       "             error_score=nan,\n",
       "             estimator=LogisticRegression(C=1.0, class_weight=None, dual=False,\n",
       "                                          fit_intercept=True,\n",
       "                                          intercept_scaling=1, l1_ratio=None,\n",
       "                                          max_iter=100, multi_class='auto',\n",
       "                                          n_jobs=None, penalty='l2',\n",
       "                                          random_state=None, solver='liblinear',\n",
       "                                          tol=0.0001, verbose=0,\n",
       "                                          warm_start=False),\n",
       "             iid='deprecated', n_jobs=None,\n",
       "             param_grid={'C': [0.1, 0.5, 1, 5], 'max_iter': [500, 1000, 1500],\n",
       "                         'penalty': ['l1', 'l2']},\n",
       "             pre_dispatch='2*n_jobs', refit=True, return_train_score=False,\n",
       "             scoring='roc_auc', verbose=0)"
      ]
     },
     "execution_count": 60,
     "metadata": {},
     "output_type": "execute_result"
    }
   ],
   "source": [
    "# using C of magnitude around 1\n",
    "# using max iterations +/- 500 from 1000\n",
    "\n",
    "param_grid = {\n",
    "    'C':[0.1, 0.5, 1, 5], \n",
    "    'max_iter':[500, 1000, 1500],  #iterations increased\n",
    "    'penalty': ['l1', 'l2']\n",
    "}\n",
    "\n",
    "gs_log_2 = GridSearchCV(logreg, param_grid, scoring = 'roc_auc', cv = cv)\n",
    "\n",
    "gs_log_2.fit(X_train_logreg, y_train_logreg)"
   ]
  },
  {
   "cell_type": "code",
   "execution_count": 67,
   "metadata": {},
   "outputs": [
    {
     "data": {
      "text/plain": [
       "0.9680502234518092"
      ]
     },
     "execution_count": 67,
     "metadata": {},
     "output_type": "execute_result"
    }
   ],
   "source": [
    "gs_log_2.best_score_"
   ]
  },
  {
   "cell_type": "code",
   "execution_count": 68,
   "metadata": {},
   "outputs": [
    {
     "data": {
      "text/plain": [
       "LogisticRegression(C=0.1, class_weight=None, dual=False, fit_intercept=True,\n",
       "                   intercept_scaling=1, l1_ratio=None, max_iter=500,\n",
       "                   multi_class='auto', n_jobs=None, penalty='l2',\n",
       "                   random_state=None, solver='liblinear', tol=0.0001, verbose=0,\n",
       "                   warm_start=False)"
      ]
     },
     "execution_count": 68,
     "metadata": {},
     "output_type": "execute_result"
    }
   ],
   "source": [
    "gs_log_2.best_estimator_"
   ]
  },
  {
   "cell_type": "code",
   "execution_count": 80,
   "metadata": {},
   "outputs": [
    {
     "name": "stdout",
     "output_type": "stream",
     "text": [
      "Best estimator of C is : 0.1\n",
      "Best estimator of max_iterations is : 500\n",
      "Best estimator of max_iterations is : l2\n"
     ]
    }
   ],
   "source": [
    "print(\"Best estimator of C is : \" + str(gs_log_2.best_estimator_.C))\n",
    "print(\"Best estimator of max_iterations is : \" + str(gs_log_2.best_estimator_.max_iter))\n",
    "print(\"Best estimator of max_iterations is : \" + str(gs_log_2.best_estimator_.penalty))"
   ]
  },
  {
   "cell_type": "markdown",
   "metadata": {},
   "source": [
    "### Third Iteration"
   ]
  },
  {
   "cell_type": "code",
   "execution_count": 69,
   "metadata": {},
   "outputs": [
    {
     "data": {
      "text/plain": [
       "GridSearchCV(cv=KFold(n_splits=5, random_state=54321, shuffle=True),\n",
       "             error_score=nan,\n",
       "             estimator=LogisticRegression(C=1.0, class_weight=None, dual=False,\n",
       "                                          fit_intercept=True,\n",
       "                                          intercept_scaling=1, l1_ratio=None,\n",
       "                                          max_iter=100, multi_class='auto',\n",
       "                                          n_jobs=None, penalty='l2',\n",
       "                                          random_state=None, solver='liblinear',\n",
       "                                          tol=0.0001, verbose=0,\n",
       "                                          warm_start=False),\n",
       "             iid='deprecated', n_jobs=None,\n",
       "             param_grid={'C': [0.01, 0.1, 0.25],\n",
       "                         'max_iter': [100, 200, 300, 500],\n",
       "                         'penalty': ['l1', 'l2']},\n",
       "             pre_dispatch='2*n_jobs', refit=True, return_train_score=False,\n",
       "             scoring='roc_auc', verbose=0)"
      ]
     },
     "execution_count": 69,
     "metadata": {},
     "output_type": "execute_result"
    }
   ],
   "source": [
    "# using C of magnitude around 0.1\n",
    "# using max iterations +/- 200 from 500\n",
    "\n",
    "param_grid = {\n",
    "    'C':[0.01, 0.1, 0.25], \n",
    "    'max_iter':[100, 200, 300, 500],  #iterations increased\n",
    "    'penalty': ['l1', 'l2']\n",
    "}\n",
    "\n",
    "gs_log_3 = GridSearchCV(logreg, param_grid, scoring = 'roc_auc', cv = cv)\n",
    "\n",
    "gs_log_3.fit(X_train_logreg, y_train_logreg)"
   ]
  },
  {
   "cell_type": "code",
   "execution_count": 70,
   "metadata": {},
   "outputs": [
    {
     "data": {
      "text/plain": [
       "0.9680502234518092"
      ]
     },
     "execution_count": 70,
     "metadata": {},
     "output_type": "execute_result"
    }
   ],
   "source": [
    "gs_log_3.best_score_"
   ]
  },
  {
   "cell_type": "code",
   "execution_count": 71,
   "metadata": {},
   "outputs": [
    {
     "data": {
      "text/plain": [
       "LogisticRegression(C=0.1, class_weight=None, dual=False, fit_intercept=True,\n",
       "                   intercept_scaling=1, l1_ratio=None, max_iter=100,\n",
       "                   multi_class='auto', n_jobs=None, penalty='l2',\n",
       "                   random_state=None, solver='liblinear', tol=0.0001, verbose=0,\n",
       "                   warm_start=False)"
      ]
     },
     "execution_count": 71,
     "metadata": {},
     "output_type": "execute_result"
    }
   ],
   "source": [
    "gs_log_3.best_estimator_"
   ]
  },
  {
   "cell_type": "markdown",
   "metadata": {},
   "source": [
    "Prefix selected parameters with chosen_ for goodhousekeeping"
   ]
  },
  {
   "cell_type": "code",
   "execution_count": 78,
   "metadata": {},
   "outputs": [
    {
     "name": "stdout",
     "output_type": "stream",
     "text": [
      "Best estimator of C is : 0.1\n",
      "Best estimator of max_iterations is : 100\n",
      "Best estimator of max_iterations is : l2\n"
     ]
    }
   ],
   "source": [
    "print(\"Best estimator of C is : \" + str(gs_log_3.best_estimator_.C))\n",
    "print(\"Best estimator of max_iterations is : \" + str(gs_log_3.best_estimator_.max_iter))\n",
    "print(\"Best estimator of max_iterations is : \" + str(gs_log_3.best_estimator_.penalty))"
   ]
  },
  {
   "cell_type": "code",
   "execution_count": 79,
   "metadata": {},
   "outputs": [],
   "source": [
    "chosen_C = gs_log_3.best_estimator_.C\n",
    "chosen_max_iter = gs_log_3.best_estimator_.max_iter\n",
    "chosen_penalty = gs_log_3.best_estimator_.penalty"
   ]
  },
  {
   "cell_type": "markdown",
   "metadata": {},
   "source": [
    "## Fitting the Chosen Model & Threshold Selection"
   ]
  },
  {
   "cell_type": "code",
   "execution_count": 82,
   "metadata": {},
   "outputs": [
    {
     "data": {
      "text/plain": [
       "0.9682362423629152"
      ]
     },
     "execution_count": 82,
     "metadata": {},
     "output_type": "execute_result"
    }
   ],
   "source": [
    "logreg_chosen = LogisticRegression(\n",
    "    C = chosen_C, max_iter = chosen_max_iter, penalty = chosen_penalty, solver = 'liblinear'\n",
    "    )\n",
    "\n",
    "logreg_chosen.fit(X_train_logreg, y_train_logreg)\n",
    "\n",
    "y_train_prediction_probabilities_logreg = logreg_chosen.predict_proba(X_train_logreg)\n",
    "\n",
    "fpr_train_logreg, tpr_train_logreg, thresholds_train_logreg = \\\n",
    "    roc_curve(y_train_logreg, y_train_prediction_probabilities_logreg[:,1])\n",
    "\n",
    "auc(fpr_train_logreg, tpr_train_logreg)"
   ]
  },
  {
   "cell_type": "markdown",
   "metadata": {},
   "source": [
    "### Threshold Selection"
   ]
  },
  {
   "cell_type": "code",
   "execution_count": 84,
   "metadata": {},
   "outputs": [
    {
     "data": {
      "text/plain": [
       "0.32207342262679606"
      ]
     },
     "execution_count": 84,
     "metadata": {},
     "output_type": "execute_result"
    }
   ],
   "source": [
    "#this contains m. DOUBLE CHECK choice of cost function\n",
    "\n",
    "zweig_campbell_scores_train_logreg = \\\n",
    "    tpr_train_logreg - m * fpr_train_logreg\n",
    "\n",
    "chosen_threshold_logreg = \\\n",
    "    thresholds_train_logreg[np.argmax(zweig_campbell_scores_train_logreg)]\n",
    "\n",
    "chosen_threshold_logreg"
   ]
  },
  {
   "cell_type": "code",
   "execution_count": 85,
   "metadata": {},
   "outputs": [],
   "source": [
    "# validation\n",
    "y_valid_prediction_probabilities_logreg = \\\n",
    "    logreg_chosen.predict_proba(X_valid_logreg)\n",
    "\n",
    "fpr_valid_logreg, tpr_valid_logreg, thresholds_valid_logreg = \\\n",
    "    roc_curve(y_valid_logreg, y_valid_prediction_probabilities_logreg[:,1])"
   ]
  },
  {
   "cell_type": "code",
   "execution_count": 86,
   "metadata": {},
   "outputs": [
    {
     "data": {
      "image/png": "[encoded data removed]",
      "text/plain": [
       "<Figure size 432x288 with 1 Axes>"
      ]
     },
     "metadata": {
      "needs_background": "light"
     },
     "output_type": "display_data"
    }
   ],
   "source": [
    "#visualization\n",
    "plt.plot(fpr_train_logreg, tpr_train_logreg, label = 'Train Data')\n",
    "plt.plot(fpr_valid_logreg, tpr_valid_logreg, label = 'Validation Data')\n",
    "plt.xlabel('FPR')\n",
    "plt.ylabel('TPR')\n",
    "plt.title('ROC Curve')\n",
    "plt.legend()\n",
    "plt.show()"
   ]
  },
  {
   "cell_type": "code",
   "execution_count": 87,
   "metadata": {},
   "outputs": [],
   "source": [
    "# for a given threshold\n",
    "y_valid_prediction_logreg = \\\n",
    "    (y_valid_prediction_probabilities_logreg[:,1] > chosen_threshold_logreg) * 1"
   ]
  },
  {
   "cell_type": "code",
   "execution_count": 91,
   "metadata": {},
   "outputs": [
    {
     "ename": "NameError",
     "evalue": "name 'y_train_true' is not defined",
     "output_type": "error",
     "traceback": [
      "\u001b[1;31m---------------------------------------------------------------------------\u001b[0m",
      "\u001b[1;31mNameError\u001b[0m                                 Traceback (most recent call last)",
      "\u001b[1;32m<ipython-input-91-266ed081f55c>\u001b[0m in \u001b[0;36m<module>\u001b[1;34m\u001b[0m\n\u001b[0;32m      3\u001b[0m \u001b[1;33m\u001b[0m\u001b[0m\n\u001b[0;32m      4\u001b[0m \u001b[1;33m\u001b[0m\u001b[0m\n\u001b[1;32m----> 5\u001b[1;33m \u001b[0mprint\u001b[0m\u001b[1;33m(\u001b[0m\u001b[0maccuracy_score\u001b[0m\u001b[1;33m(\u001b[0m\u001b[0my_train_true\u001b[0m\u001b[1;33m,\u001b[0m \u001b[0my_train_pred\u001b[0m\u001b[1;33m)\u001b[0m\u001b[1;33m)\u001b[0m\u001b[1;33m\u001b[0m\u001b[1;33m\u001b[0m\u001b[0m\n\u001b[0m",
      "\u001b[1;31mNameError\u001b[0m: name 'y_train_true' is not defined"
     ]
    }
   ],
   "source": [
    "from sklearn.metrics import SCORERS, precision_score, recall_score, \\\n",
    "    accuracy_score, f1_score, roc_curve, auc, confusion_matrix, roc_auc_score\n",
    "\n",
    "\n",
    "print(accuracy_score(y_train_true, y_train_pred))"
   ]
  },
  {
   "cell_type": "code",
   "execution_count": 89,
   "metadata": {},
   "outputs": [
    {
     "ename": "ModuleNotFoundError",
     "evalue": "No module named 'modelling_func'",
     "output_type": "error",
     "traceback": [
      "\u001b[1;31m---------------------------------------------------------------------------\u001b[0m",
      "\u001b[1;31mModuleNotFoundError\u001b[0m                       Traceback (most recent call last)",
      "\u001b[1;32m<ipython-input-89-b1d210a5a098>\u001b[0m in \u001b[0;36m<module>\u001b[1;34m\u001b[0m\n\u001b[0;32m      1\u001b[0m \u001b[1;31m# Scores on the doors\u001b[0m\u001b[1;33m\u001b[0m\u001b[1;33m\u001b[0m\u001b[1;33m\u001b[0m\u001b[0m\n\u001b[1;32m----> 2\u001b[1;33m \u001b[1;32mimport\u001b[0m \u001b[0mmodelling_func\u001b[0m\u001b[1;33m\u001b[0m\u001b[1;33m\u001b[0m\u001b[0m\n\u001b[0m\u001b[0;32m      3\u001b[0m \u001b[1;33m\u001b[0m\u001b[0m\n\u001b[0;32m      4\u001b[0m logreg_scores = modelling_func.calculate_scores(\n\u001b[0;32m      5\u001b[0m     \u001b[0my_train_logreg\u001b[0m\u001b[1;33m,\u001b[0m \u001b[0my_train_prediction_logreg\u001b[0m\u001b[1;33m,\u001b[0m\u001b[1;33m\u001b[0m\u001b[1;33m\u001b[0m\u001b[0m\n",
      "\u001b[1;31mModuleNotFoundError\u001b[0m: No module named 'modelling_func'"
     ]
    }
   ],
   "source": [
    "# Scores on the doors => returm he scoring processes\n",
    "\n",
    "import pandas as pd\n",
    "import numpy as np\n",
    "\n",
    "from sklearn.metrics import SCORERS, precision_score, recall_score, \\\n",
    "    accuracy_score, f1_score, roc_curve, auc, confusion_matrix, roc_auc_score\n",
    "\n",
    "\n",
    "\n",
    "def calculate_scores(y_train_true, y_train_pred, y_valid_true, y_valid_pred, m, verbose = False):\n",
    "    \"\"\"\n",
    "    calculates scores, updates dictionary with relevant scores\n",
    "    if verbose is true, also prints out results\n",
    "    returns a dictionary\n",
    "    \"\"\"\n",
    "    \n",
    "    scoring_dictionary = {}\n",
    "    \n",
    "    scoring_dictionary['train_accuracy'] = accuracy_score(y_train_true, y_train_pred)\n",
    "    scoring_dictionary['validation_accuracy'] = accuracy_score(y_valid_true, y_valid_pred)\n",
    "    scoring_dictionary['train_f1'] = f1_score(y_train_true, y_train_pred)\n",
    "    scoring_dictionary['validation_f1'] = f1_score(y_valid_true, y_valid_pred)\n",
    "    scoring_dictionary['train_auc'] = roc_auc_score(y_train_true, y_train_pred)\n",
    "    scoring_dictionary['validation_auc'] = roc_auc_score(y_valid_true, y_valid_pred)\n",
    "    scoring_dictionary['train_zweigcampbell'] = \\\n",
    "        calculate_zweig_campbell_score(y_train_true, y_train_pred, m)\n",
    "    scoring_dictionary['validation_zweigcampbell'] = \\\n",
    "        calculate_zweig_campbell_score(y_valid_true, y_valid_pred, m)\n",
    "    \n",
    "    if verbose:\n",
    "        print(\"Train accuracy : \" + str(scoring_dictionary['train_accuracy']))\n",
    "        print(\"Validation accuracy : \" + str(scoring_dictionary['validation_accuracy']))\n",
    "        print(\"Train F1 : \" + str(scoring_dictionary['train_f1']))\n",
    "        print(\"Validation F1 : \" + str(scoring_dictionary['validation_f1']))\n",
    "        print(\"Train AUC : \" + str(scoring_dictionary['train_auc']))\n",
    "        print(\"Validation AUC : \" + str(scoring_dictionary['validation_auc']))\n",
    "        print(\"Train Zweig-Campbell : \" + str(scoring_dictionary['train_zweigcampbell']))\n",
    "        print(\"Validation Zweig-Campbell : \" + str(scoring_dictionary['validation_zweigcampbell']))\n",
    "        \n",
    "    return scoring_dictionary\n",
    "    \n",
    "    \n",
    "def calculate_zweig_campbell_score(y_true, y_pred, m):\n",
    "    \"\"\"\n",
    "    calculates tpr - m * fpr\n",
    "    \"\"\"\n",
    "    \n",
    "    tn, fp, fn, tp = confusion_matrix(y_true, y_pred).ravel()\n",
    "\n",
    "    fpr = fp / (fp + tn)\n",
    "    tpr = tp / (tp + fn)\n",
    "\n",
    "    return tpr - fpr * m"
   ]
  },
  {
   "cell_type": "code",
   "execution_count": null,
   "metadata": {},
   "outputs": [],
   "source": []
  }
 ],
 "metadata": {
  "kernelspec": {
   "display_name": "Python 3",
   "language": "python",
   "name": "python3"
  },
  "language_info": {
   "codemirror_mode": {
    "name": "ipython",
    "version": 3
   },
   "file_extension": ".py",
   "mimetype": "text/x-python",
   "name": "python",
   "nbconvert_exporter": "python",
   "pygments_lexer": "ipython3",
   "version": "3.7.4"
  }
 },
 "nbformat": 4,
 "nbformat_minor": 2
}
